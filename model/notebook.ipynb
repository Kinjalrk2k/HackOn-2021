{
  "nbformat": 4,
  "nbformat_minor": 0,
  "metadata": {
    "colab": {
      "name": "notebook.ipynb",
      "provenance": [],
      "collapsed_sections": []
    },
    "kernelspec": {
      "name": "python3",
      "display_name": "Python 3",
      "language": "python"
    },
    "language_info": {
      "name": "python",
      "version": "3.7.3"
    }
  },
  "cells": [
    {
      "cell_type": "code",
      "metadata": {
        "id": "qw4bwc87QBDE"
      },
      "source": [
        "import pandas as pd\n",
        "from sklearn.preprocessing import PolynomialFeatures, StandardScaler, OneHotEncoder"
      ],
      "execution_count": 1,
      "outputs": []
    },
    {
      "cell_type": "code",
      "metadata": {
        "colab": {
          "base_uri": "https://localhost:8080/",
          "height": 394
        },
        "id": "m_cm6vxiSWRi",
        "outputId": "93b556ab-39a5-4a6b-b360-0414418c9561"
      },
      "source": [
        "df = pd.read_csv(\"data.csv\")\n",
        "df.head()"
      ],
      "execution_count": 2,
      "outputs": [
        {
          "output_type": "execute_result",
          "data": {
            "text/plain": [
              "             Timestamp  Age  Gender         Country state self_employed  \\\n",
              "0  2014-08-27 11:29:31   37  Female   United States    IL           NaN   \n",
              "1  2014-08-27 11:29:37   44       M   United States    IN           NaN   \n",
              "2  2014-08-27 11:29:44   32    Male          Canada   NaN           NaN   \n",
              "3  2014-08-27 11:29:46   31    Male  United Kingdom   NaN           NaN   \n",
              "4  2014-08-27 11:30:22   31    Male   United States    TX           NaN   \n",
              "\n",
              "  family_history treatment work_interfere    no_employees  ...  \\\n",
              "0             No       Yes          Often            6-25  ...   \n",
              "1             No        No         Rarely  More than 1000  ...   \n",
              "2             No        No         Rarely            6-25  ...   \n",
              "3            Yes       Yes          Often          26-100  ...   \n",
              "4             No        No          Never         100-500  ...   \n",
              "\n",
              "                leave mental_health_consequence phys_health_consequence  \\\n",
              "0       Somewhat easy                        No                      No   \n",
              "1          Don't know                     Maybe                      No   \n",
              "2  Somewhat difficult                        No                      No   \n",
              "3  Somewhat difficult                       Yes                     Yes   \n",
              "4          Don't know                        No                      No   \n",
              "\n",
              "      coworkers supervisor mental_health_interview phys_health_interview  \\\n",
              "0  Some of them        Yes                      No                 Maybe   \n",
              "1            No         No                      No                    No   \n",
              "2           Yes        Yes                     Yes                   Yes   \n",
              "3  Some of them         No                   Maybe                 Maybe   \n",
              "4  Some of them        Yes                     Yes                   Yes   \n",
              "\n",
              "  mental_vs_physical obs_consequence comments  \n",
              "0                Yes              No      NaN  \n",
              "1         Don't know              No      NaN  \n",
              "2                 No              No      NaN  \n",
              "3                 No             Yes      NaN  \n",
              "4         Don't know              No      NaN  \n",
              "\n",
              "[5 rows x 27 columns]"
            ],
            "text/html": "<div>\n<style scoped>\n    .dataframe tbody tr th:only-of-type {\n        vertical-align: middle;\n    }\n\n    .dataframe tbody tr th {\n        vertical-align: top;\n    }\n\n    .dataframe thead th {\n        text-align: right;\n    }\n</style>\n<table border=\"1\" class=\"dataframe\">\n  <thead>\n    <tr style=\"text-align: right;\">\n      <th></th>\n      <th>Timestamp</th>\n      <th>Age</th>\n      <th>Gender</th>\n      <th>Country</th>\n      <th>state</th>\n      <th>self_employed</th>\n      <th>family_history</th>\n      <th>treatment</th>\n      <th>work_interfere</th>\n      <th>no_employees</th>\n      <th>...</th>\n      <th>leave</th>\n      <th>mental_health_consequence</th>\n      <th>phys_health_consequence</th>\n      <th>coworkers</th>\n      <th>supervisor</th>\n      <th>mental_health_interview</th>\n      <th>phys_health_interview</th>\n      <th>mental_vs_physical</th>\n      <th>obs_consequence</th>\n      <th>comments</th>\n    </tr>\n  </thead>\n  <tbody>\n    <tr>\n      <th>0</th>\n      <td>2014-08-27 11:29:31</td>\n      <td>37</td>\n      <td>Female</td>\n      <td>United States</td>\n      <td>IL</td>\n      <td>NaN</td>\n      <td>No</td>\n      <td>Yes</td>\n      <td>Often</td>\n      <td>6-25</td>\n      <td>...</td>\n      <td>Somewhat easy</td>\n      <td>No</td>\n      <td>No</td>\n      <td>Some of them</td>\n      <td>Yes</td>\n      <td>No</td>\n      <td>Maybe</td>\n      <td>Yes</td>\n      <td>No</td>\n      <td>NaN</td>\n    </tr>\n    <tr>\n      <th>1</th>\n      <td>2014-08-27 11:29:37</td>\n      <td>44</td>\n      <td>M</td>\n      <td>United States</td>\n      <td>IN</td>\n      <td>NaN</td>\n      <td>No</td>\n      <td>No</td>\n      <td>Rarely</td>\n      <td>More than 1000</td>\n      <td>...</td>\n      <td>Don't know</td>\n      <td>Maybe</td>\n      <td>No</td>\n      <td>No</td>\n      <td>No</td>\n      <td>No</td>\n      <td>No</td>\n      <td>Don't know</td>\n      <td>No</td>\n      <td>NaN</td>\n    </tr>\n    <tr>\n      <th>2</th>\n      <td>2014-08-27 11:29:44</td>\n      <td>32</td>\n      <td>Male</td>\n      <td>Canada</td>\n      <td>NaN</td>\n      <td>NaN</td>\n      <td>No</td>\n      <td>No</td>\n      <td>Rarely</td>\n      <td>6-25</td>\n      <td>...</td>\n      <td>Somewhat difficult</td>\n      <td>No</td>\n      <td>No</td>\n      <td>Yes</td>\n      <td>Yes</td>\n      <td>Yes</td>\n      <td>Yes</td>\n      <td>No</td>\n      <td>No</td>\n      <td>NaN</td>\n    </tr>\n    <tr>\n      <th>3</th>\n      <td>2014-08-27 11:29:46</td>\n      <td>31</td>\n      <td>Male</td>\n      <td>United Kingdom</td>\n      <td>NaN</td>\n      <td>NaN</td>\n      <td>Yes</td>\n      <td>Yes</td>\n      <td>Often</td>\n      <td>26-100</td>\n      <td>...</td>\n      <td>Somewhat difficult</td>\n      <td>Yes</td>\n      <td>Yes</td>\n      <td>Some of them</td>\n      <td>No</td>\n      <td>Maybe</td>\n      <td>Maybe</td>\n      <td>No</td>\n      <td>Yes</td>\n      <td>NaN</td>\n    </tr>\n    <tr>\n      <th>4</th>\n      <td>2014-08-27 11:30:22</td>\n      <td>31</td>\n      <td>Male</td>\n      <td>United States</td>\n      <td>TX</td>\n      <td>NaN</td>\n      <td>No</td>\n      <td>No</td>\n      <td>Never</td>\n      <td>100-500</td>\n      <td>...</td>\n      <td>Don't know</td>\n      <td>No</td>\n      <td>No</td>\n      <td>Some of them</td>\n      <td>Yes</td>\n      <td>Yes</td>\n      <td>Yes</td>\n      <td>Don't know</td>\n      <td>No</td>\n      <td>NaN</td>\n    </tr>\n  </tbody>\n</table>\n<p>5 rows × 27 columns</p>\n</div>"
          },
          "metadata": {},
          "execution_count": 2
        }
      ]
    },
    {
      "cell_type": "markdown",
      "metadata": {
        "id": "nZ7QaiE3WWzz"
      },
      "source": [
        "# Data Cleaning"
      ]
    },
    {
      "cell_type": "code",
      "metadata": {
        "id": "JVOy-LHKSlVA"
      },
      "source": [
        "#Dropping columns not necessary for data analysis\n",
        "df.drop(['Timestamp', 'comments', 'state', 'Country', 'phys_health_interview', 'phys_health_consequence'],\n",
        "        axis=1, inplace=True)\n",
        "\n",
        "\n",
        "#Dropping nan values and changing age column to intg.\n",
        "df.work_interfere.dropna(inplace=True)\n",
        "df.self_employed.dropna(inplace=True)\n",
        "df['Age'] = df['Age'].astype(int)"
      ],
      "execution_count": 3,
      "outputs": []
    },
    {
      "cell_type": "code",
      "metadata": {
        "id": "hdHgB_WzTSrG"
      },
      "source": [
        "# creating a uniform values for vairous unique gender values\n",
        "\n",
        "df['Gender'] = df['Gender'].replace({'f':'F'})\n",
        "df['Gender'] = df['Gender'].replace({'female':'F'})\n",
        "df['Gender'] = df['Gender'].replace({'Male':'M'})\n",
        "df['Gender'] = df['Gender'].replace({'male':'M'})\n",
        "df['Gender'] = df['Gender'].replace({'Female':'F'})\n",
        "df['Gender'] = df['Gender'].replace({'m':'M'})\n",
        "df['Gender'] = df['Gender'].replace({'Make':'M'})\n",
        "df['Gender'] = df['Gender'].replace({'Woman':'F'})\n",
        "df['Gender'] = df['Gender'].replace({'Man':'M'})\n",
        "df['Gender'] = df['Gender'].replace({'Femake':'F'})\n",
        "df['Gender'] = df['Gender'].replace({'Malr':'M'})\n",
        "df['Gender'] = df['Gender'].replace({'Mail':'M'})\n",
        "df['Gender'] = df['Gender'].replace({'femail':'F'})\n",
        "df['Gender'] = df['Gender'].replace({'Female ':'F'})\n",
        "df['Gender'] = df['Gender'].replace({'Female (trans)':'trans'})\n",
        "df['Gender'] = df['Gender'].replace({'Trans-female':'trans'})\n",
        "df['Gender'] = df['Gender'].replace({'Trans woman':'trans'})\n",
        "df['Gender'] = df['Gender'].replace({'Cis Male':'M'})\n",
        "df['Gender'] = df['Gender'].replace({'Cis Male':'M'})\n",
        "df['Gender'] = df['Gender'].replace({'cis-female/femme':'F'})\n",
        "df['Gender'] = df['Gender'].replace({'cis male':'M'})\n",
        "df['Gender'] = df['Gender'].replace({'Cis Man':'M'})\n",
        "df['Gender'] = df['Gender'].replace({'maile':'M'}) \n",
        "df['Gender'] = df['Gender'].replace({'Mal':'M'})\n",
        "df['Gender'] = df['Gender'].replace({'Cis Female':'F'})\n",
        "df['Gender'] = df['Gender'].replace({'woman':'F'})\n",
        "df['Gender'] = df['Gender'].replace({'Female (cis)':'F'})\n",
        "df['Gender'] = df['Gender'].replace({'Male ':'M'})\n",
        "df['Gender'] = df['Gender'].replace({'Male (CIS)':'M'})\n",
        "df['Gender'] = df['Gender'].replace({'msle':'M'})\n",
        "df['Gender'] = df['Gender'].replace({'queer/she/they':'queer'})\n",
        "df['Gender'] = df['Gender'].replace({'queer':'queer'})\n",
        "df['Gender'] = df['Gender'].replace({'Genderqueer':'queer'})\n",
        "df['Gender'] = df['Gender'].replace({'fluid':'queer'})\n",
        "df['Gender'] = df['Gender'].replace({'non-binary':'queer'})\n",
        "df['Gender'] = df['Gender'].replace({'Androgyne':'queer'})\n",
        "df['Gender'] = df['Gender'].replace({'male leaning androgynous':'queer'})\n",
        "df['Gender'] = df['Gender'].replace({'Agender':'queer'})\n",
        "df['Gender'] = df['Gender'].replace({'something kinda male?':'other'})\n",
        "df['Gender'] = df['Gender'].replace({'Nah':'other'})\n",
        "df['Gender'] = df['Gender'].replace({'Agender':'other'})\n",
        "df['Gender'] = df['Gender'].replace({'Neuter':'other'})\n",
        "df['Gender'] = df['Gender'].replace({'p':'other'})\n",
        "df['Gender'] = df['Gender'].replace({'Guy (-ish) ^_^':'other'})\n",
        "df['Gender'] = df['Gender'].replace({'Male-ish':'other'})\n",
        "df['Gender'] = df['Gender'].replace({'A little about you':'other'})\n",
        "df['Gender'] = df['Gender'].replace({'Enby':'other'})\n",
        "df['Gender'] = df['Gender'].replace({'All':'other'})\n",
        "df['Gender'] = df['Gender'].replace({'ostensibly male, unsure what that really means':'other'})\n",
        "\n",
        "\n",
        "\n",
        "df['work_interfere'] = df['work_interfere'].replace({'Sometimes': 'yes'})\n",
        "df['work_interfere'] = df['work_interfere'].replace({'Often': 'yes'})\n",
        "df['work_interfere'] = df['work_interfere'].replace({'Rarely': 'no'})\n",
        "df['work_interfere'] = df['work_interfere'].replace({'Never': 'no' })"
      ],
      "execution_count": 4,
      "outputs": []
    },
    {
      "cell_type": "code",
      "metadata": {
        "id": "NCwjRMqfTVMe"
      },
      "source": [
        "#consoldating two employee sizes\n",
        "\n",
        "df['no_employees'] = df['no_employees'].replace({'1-5':'1-25'})\n",
        "df['no_employees'] = df['no_employees'].replace({'6-25':'1-25'})"
      ],
      "execution_count": 5,
      "outputs": []
    },
    {
      "cell_type": "code",
      "metadata": {
        "id": "Y8-vJipSTXTJ"
      },
      "source": [
        "df.self_employed.dropna(axis=0, inplace=True)\n",
        "#df.self_employed.isna().sum()"
      ],
      "execution_count": 6,
      "outputs": []
    },
    {
      "cell_type": "code",
      "metadata": {
        "id": "HgUBqAP8TZoD"
      },
      "source": [
        "#Dropping all null values in df\n",
        "df.dropna(inplace=True)"
      ],
      "execution_count": 7,
      "outputs": []
    },
    {
      "cell_type": "code",
      "metadata": {
        "id": "fi6hhO__TbHr"
      },
      "source": [
        "#Replacing unique(incorrectly entered age values with 1 in order to change it with the mean after)\n",
        "for age in df.Age.values:\n",
        "    if age <= 17 or age >= 80:\n",
        "        df.Age.replace(age, 1, inplace=True)"
      ],
      "execution_count": 8,
      "outputs": []
    },
    {
      "cell_type": "code",
      "metadata": {
        "id": "yo6TVj8FTewk"
      },
      "source": [
        "#changing ones with the column mean and rounding it in to two \n",
        "df['Age'] = df['Age'].replace({1:df.Age.mean()})\n",
        "df.Age = df.Age.round(2)"
      ],
      "execution_count": 9,
      "outputs": []
    },
    {
      "cell_type": "code",
      "metadata": {
        "colab": {
          "base_uri": "https://localhost:8080/",
          "height": 292
        },
        "id": "YZuqRLysTgYZ",
        "outputId": "3ffb92ed-c2af-42e4-8920-d98e2be50f60"
      },
      "source": [
        "df.head()"
      ],
      "execution_count": 10,
      "outputs": [
        {
          "output_type": "execute_result",
          "data": {
            "text/plain": [
              "     Age Gender self_employed family_history treatment work_interfere  \\\n",
              "18  46.0      M           Yes            Yes        No            yes   \n",
              "20  29.0      M            No            Yes       Yes            yes   \n",
              "21  31.0      M           Yes             No        No             no   \n",
              "22  46.0      M            No             No       Yes            yes   \n",
              "23  41.0      M            No             No       Yes             no   \n",
              "\n",
              "      no_employees remote_work tech_company    benefits  ... wellness_program  \\\n",
              "18            1-25         Yes          Yes         Yes  ...              Yes   \n",
              "20         100-500          No          Yes         Yes  ...               No   \n",
              "21            1-25         Yes          Yes          No  ...               No   \n",
              "22          26-100         Yes          Yes         Yes  ...               No   \n",
              "23  More than 1000          No           No  Don't know  ...               No   \n",
              "\n",
              "     seek_help   anonymity               leave mental_health_consequence  \\\n",
              "18  Don't know         Yes           Very easy                        No   \n",
              "20          No          No  Somewhat difficult                     Maybe   \n",
              "21          No         Yes  Somewhat difficult                        No   \n",
              "22          No  Don't know          Don't know                     Maybe   \n",
              "23  Don't know  Don't know          Don't know                     Maybe   \n",
              "\n",
              "       coworkers    supervisor mental_health_interview mental_vs_physical  \\\n",
              "18           Yes           Yes                      No                Yes   \n",
              "20  Some of them  Some of them                      No                 No   \n",
              "21  Some of them  Some of them                      No                Yes   \n",
              "22  Some of them           Yes                      No                 No   \n",
              "23            No            No                      No         Don't know   \n",
              "\n",
              "   obs_consequence  \n",
              "18             Yes  \n",
              "20              No  \n",
              "21              No  \n",
              "22              No  \n",
              "23              No  \n",
              "\n",
              "[5 rows x 21 columns]"
            ],
            "text/html": "<div>\n<style scoped>\n    .dataframe tbody tr th:only-of-type {\n        vertical-align: middle;\n    }\n\n    .dataframe tbody tr th {\n        vertical-align: top;\n    }\n\n    .dataframe thead th {\n        text-align: right;\n    }\n</style>\n<table border=\"1\" class=\"dataframe\">\n  <thead>\n    <tr style=\"text-align: right;\">\n      <th></th>\n      <th>Age</th>\n      <th>Gender</th>\n      <th>self_employed</th>\n      <th>family_history</th>\n      <th>treatment</th>\n      <th>work_interfere</th>\n      <th>no_employees</th>\n      <th>remote_work</th>\n      <th>tech_company</th>\n      <th>benefits</th>\n      <th>...</th>\n      <th>wellness_program</th>\n      <th>seek_help</th>\n      <th>anonymity</th>\n      <th>leave</th>\n      <th>mental_health_consequence</th>\n      <th>coworkers</th>\n      <th>supervisor</th>\n      <th>mental_health_interview</th>\n      <th>mental_vs_physical</th>\n      <th>obs_consequence</th>\n    </tr>\n  </thead>\n  <tbody>\n    <tr>\n      <th>18</th>\n      <td>46.0</td>\n      <td>M</td>\n      <td>Yes</td>\n      <td>Yes</td>\n      <td>No</td>\n      <td>yes</td>\n      <td>1-25</td>\n      <td>Yes</td>\n      <td>Yes</td>\n      <td>Yes</td>\n      <td>...</td>\n      <td>Yes</td>\n      <td>Don't know</td>\n      <td>Yes</td>\n      <td>Very easy</td>\n      <td>No</td>\n      <td>Yes</td>\n      <td>Yes</td>\n      <td>No</td>\n      <td>Yes</td>\n      <td>Yes</td>\n    </tr>\n    <tr>\n      <th>20</th>\n      <td>29.0</td>\n      <td>M</td>\n      <td>No</td>\n      <td>Yes</td>\n      <td>Yes</td>\n      <td>yes</td>\n      <td>100-500</td>\n      <td>No</td>\n      <td>Yes</td>\n      <td>Yes</td>\n      <td>...</td>\n      <td>No</td>\n      <td>No</td>\n      <td>No</td>\n      <td>Somewhat difficult</td>\n      <td>Maybe</td>\n      <td>Some of them</td>\n      <td>Some of them</td>\n      <td>No</td>\n      <td>No</td>\n      <td>No</td>\n    </tr>\n    <tr>\n      <th>21</th>\n      <td>31.0</td>\n      <td>M</td>\n      <td>Yes</td>\n      <td>No</td>\n      <td>No</td>\n      <td>no</td>\n      <td>1-25</td>\n      <td>Yes</td>\n      <td>Yes</td>\n      <td>No</td>\n      <td>...</td>\n      <td>No</td>\n      <td>No</td>\n      <td>Yes</td>\n      <td>Somewhat difficult</td>\n      <td>No</td>\n      <td>Some of them</td>\n      <td>Some of them</td>\n      <td>No</td>\n      <td>Yes</td>\n      <td>No</td>\n    </tr>\n    <tr>\n      <th>22</th>\n      <td>46.0</td>\n      <td>M</td>\n      <td>No</td>\n      <td>No</td>\n      <td>Yes</td>\n      <td>yes</td>\n      <td>26-100</td>\n      <td>Yes</td>\n      <td>Yes</td>\n      <td>Yes</td>\n      <td>...</td>\n      <td>No</td>\n      <td>No</td>\n      <td>Don't know</td>\n      <td>Don't know</td>\n      <td>Maybe</td>\n      <td>Some of them</td>\n      <td>Yes</td>\n      <td>No</td>\n      <td>No</td>\n      <td>No</td>\n    </tr>\n    <tr>\n      <th>23</th>\n      <td>41.0</td>\n      <td>M</td>\n      <td>No</td>\n      <td>No</td>\n      <td>Yes</td>\n      <td>no</td>\n      <td>More than 1000</td>\n      <td>No</td>\n      <td>No</td>\n      <td>Don't know</td>\n      <td>...</td>\n      <td>No</td>\n      <td>Don't know</td>\n      <td>Don't know</td>\n      <td>Don't know</td>\n      <td>Maybe</td>\n      <td>No</td>\n      <td>No</td>\n      <td>No</td>\n      <td>Don't know</td>\n      <td>No</td>\n    </tr>\n  </tbody>\n</table>\n<p>5 rows × 21 columns</p>\n</div>"
          },
          "metadata": {},
          "execution_count": 10
        }
      ]
    },
    {
      "cell_type": "code",
      "metadata": {
        "id": "DdSHNSXiTjCu"
      },
      "source": [
        "X = df.drop('work_interfere', axis=1)\n",
        "y = df['work_interfere']"
      ],
      "execution_count": 11,
      "outputs": []
    },
    {
      "cell_type": "code",
      "metadata": {
        "id": "htoW2p_eUti_"
      },
      "source": [
        "cont = X.select_dtypes(exclude='object')\n",
        "\n",
        "cat = X.select_dtypes(include='object')"
      ],
      "execution_count": 12,
      "outputs": []
    },
    {
      "cell_type": "code",
      "metadata": {
        "colab": {
          "base_uri": "https://localhost:8080/",
          "height": 148
        },
        "id": "wjr96eFCUvgB",
        "outputId": "8bf71dbe-f80b-4fa6-ca1e-5c36d42e5261"
      },
      "source": [
        "ohe = OneHotEncoder(drop='first')\n",
        "train = ohe.fit_transform(cat).toarray()\n",
        "train_df= pd.DataFrame(train, columns=ohe.get_feature_names(cat.columns))\n",
        "train_df.head(2)"
      ],
      "execution_count": 13,
      "outputs": [
        {
          "output_type": "execute_result",
          "data": {
            "text/plain": [
              "   Gender_M  Gender_other  Gender_queer  Gender_trans  self_employed_Yes  \\\n",
              "0       1.0           0.0           0.0           0.0                1.0   \n",
              "1       1.0           0.0           0.0           0.0                0.0   \n",
              "\n",
              "   family_history_Yes  treatment_Yes  no_employees_100-500  \\\n",
              "0                 1.0            0.0                   0.0   \n",
              "1                 1.0            1.0                   1.0   \n",
              "\n",
              "   no_employees_26-100  no_employees_500-1000  ...  \\\n",
              "0                  0.0                    0.0  ...   \n",
              "1                  0.0                    0.0  ...   \n",
              "\n",
              "   mental_health_consequence_Yes  coworkers_Some of them  coworkers_Yes  \\\n",
              "0                            0.0                     0.0            1.0   \n",
              "1                            0.0                     1.0            0.0   \n",
              "\n",
              "   supervisor_Some of them  supervisor_Yes  mental_health_interview_No  \\\n",
              "0                      0.0             1.0                         1.0   \n",
              "1                      1.0             0.0                         1.0   \n",
              "\n",
              "   mental_health_interview_Yes  mental_vs_physical_No  mental_vs_physical_Yes  \\\n",
              "0                          0.0                    0.0                     1.0   \n",
              "1                          0.0                    1.0                     0.0   \n",
              "\n",
              "   obs_consequence_Yes  \n",
              "0                  1.0  \n",
              "1                  0.0  \n",
              "\n",
              "[2 rows x 38 columns]"
            ],
            "text/html": "<div>\n<style scoped>\n    .dataframe tbody tr th:only-of-type {\n        vertical-align: middle;\n    }\n\n    .dataframe tbody tr th {\n        vertical-align: top;\n    }\n\n    .dataframe thead th {\n        text-align: right;\n    }\n</style>\n<table border=\"1\" class=\"dataframe\">\n  <thead>\n    <tr style=\"text-align: right;\">\n      <th></th>\n      <th>Gender_M</th>\n      <th>Gender_other</th>\n      <th>Gender_queer</th>\n      <th>Gender_trans</th>\n      <th>self_employed_Yes</th>\n      <th>family_history_Yes</th>\n      <th>treatment_Yes</th>\n      <th>no_employees_100-500</th>\n      <th>no_employees_26-100</th>\n      <th>no_employees_500-1000</th>\n      <th>...</th>\n      <th>mental_health_consequence_Yes</th>\n      <th>coworkers_Some of them</th>\n      <th>coworkers_Yes</th>\n      <th>supervisor_Some of them</th>\n      <th>supervisor_Yes</th>\n      <th>mental_health_interview_No</th>\n      <th>mental_health_interview_Yes</th>\n      <th>mental_vs_physical_No</th>\n      <th>mental_vs_physical_Yes</th>\n      <th>obs_consequence_Yes</th>\n    </tr>\n  </thead>\n  <tbody>\n    <tr>\n      <th>0</th>\n      <td>1.0</td>\n      <td>0.0</td>\n      <td>0.0</td>\n      <td>0.0</td>\n      <td>1.0</td>\n      <td>1.0</td>\n      <td>0.0</td>\n      <td>0.0</td>\n      <td>0.0</td>\n      <td>0.0</td>\n      <td>...</td>\n      <td>0.0</td>\n      <td>0.0</td>\n      <td>1.0</td>\n      <td>0.0</td>\n      <td>1.0</td>\n      <td>1.0</td>\n      <td>0.0</td>\n      <td>0.0</td>\n      <td>1.0</td>\n      <td>1.0</td>\n    </tr>\n    <tr>\n      <th>1</th>\n      <td>1.0</td>\n      <td>0.0</td>\n      <td>0.0</td>\n      <td>0.0</td>\n      <td>0.0</td>\n      <td>1.0</td>\n      <td>1.0</td>\n      <td>1.0</td>\n      <td>0.0</td>\n      <td>0.0</td>\n      <td>...</td>\n      <td>0.0</td>\n      <td>1.0</td>\n      <td>0.0</td>\n      <td>1.0</td>\n      <td>0.0</td>\n      <td>1.0</td>\n      <td>0.0</td>\n      <td>1.0</td>\n      <td>0.0</td>\n      <td>0.0</td>\n    </tr>\n  </tbody>\n</table>\n<p>2 rows × 38 columns</p>\n</div>"
          },
          "metadata": {},
          "execution_count": 13
        }
      ]
    },
    {
      "cell_type": "code",
      "metadata": {
        "id": "nWzuXRFNVEAa"
      },
      "source": [
        "train_df.reset_index(inplace=True, drop='first')\n",
        "cont.reset_index(inplace=True, drop='first')\n",
        "X = train_df.join(cont)"
      ],
      "execution_count": 14,
      "outputs": []
    },
    {
      "cell_type": "markdown",
      "metadata": {
        "id": "Cyd5avh7Wfbs"
      },
      "source": [
        "# Random Forest Classifier"
      ]
    },
    {
      "cell_type": "code",
      "metadata": {
        "id": "weXSpXqHTwAk"
      },
      "source": [
        "from sklearn.model_selection import train_test_split\n",
        "\n",
        "X_train, X_test, y_train, y_test = train_test_split(X, y, random_state=1000, test_size=0.2)"
      ],
      "execution_count": 15,
      "outputs": []
    },
    {
      "cell_type": "code",
      "metadata": {
        "id": "SC0U9YQUUKUJ"
      },
      "source": [
        "from sklearn.ensemble import RandomForestClassifier\n",
        "forest = RandomForestClassifier(n_estimators=100, random_state=28, max_depth=5)\n",
        "\n",
        "forest_model= forest.fit(X_train, y_train)"
      ],
      "execution_count": 16,
      "outputs": []
    },
    {
      "cell_type": "code",
      "metadata": {
        "colab": {
          "base_uri": "https://localhost:8080/"
        },
        "id": "UzLjXfwQUmDU",
        "outputId": "d070d9c5-01ee-474b-86ea-3158d1b578e1"
      },
      "source": [
        "print(forest_model.score(X_test, y_test).round(2) * 100, \"%\")"
      ],
      "execution_count": 21,
      "outputs": [
        {
          "output_type": "stream",
          "name": "stdout",
          "text": [
            "70.0 %\n"
          ]
        }
      ]
    },
    {
      "cell_type": "code",
      "metadata": {
        "id": "f0zRzl4qVeAK"
      },
      "source": [
        "# df_features = pd.DataFrame(X_train.columns)\n",
        "# df_features['feature_importances'] = forest_model.feature_importances_\n",
        "# df_features.columns = ['features', 'feature_importances']\n",
        "\n",
        "# df_features = df_features.sort_values(by='feature_importances', ascending=False)\n",
        "\n",
        "# df_features.sort_values('features')\n",
        "# df_features.reset_index(drop='first', inplace=True)"
      ],
      "execution_count": 18,
      "outputs": []
    },
    {
      "cell_type": "code",
      "metadata": {
        "id": "YNqVwe-rVpq6"
      },
      "source": [],
      "execution_count": null,
      "outputs": []
    }
  ]
}