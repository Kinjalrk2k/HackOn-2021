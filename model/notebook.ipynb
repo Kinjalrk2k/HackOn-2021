{
  "nbformat": 4,
  "nbformat_minor": 0,
  "metadata": {
    "colab": {
      "name": "notebook.ipynb",
      "provenance": [],
      "collapsed_sections": []
    },
    "kernelspec": {
      "name": "python3",
      "display_name": "Python 3",
      "language": "python"
    },
    "language_info": {
      "name": "python",
      "version": "3.7.6"
    }
  },
  "cells": [
    {
      "cell_type": "code",
      "metadata": {
        "id": "qw4bwc87QBDE"
      },
      "source": [
        "import pandas as pd\n",
        "from sklearn.preprocessing import OneHotEncoder"
      ],
      "execution_count": 2,
      "outputs": []
    },
    {
      "cell_type": "code",
      "metadata": {
        "colab": {
          "base_uri": "https://localhost:8080/",
          "height": 394
        },
        "id": "m_cm6vxiSWRi",
        "outputId": "93b556ab-39a5-4a6b-b360-0414418c9561"
      },
      "source": [
        "df = pd.read_csv(\"data.csv\")\n",
        "df.head()"
      ],
      "execution_count": 3,
      "outputs": [
        {
          "output_type": "execute_result",
          "data": {
            "text/plain": [
              "             Timestamp  Age  Gender         Country state self_employed  \\\n",
              "0  2014-08-27 11:29:31   37  Female   United States    IL           NaN   \n",
              "1  2014-08-27 11:29:37   44       M   United States    IN           NaN   \n",
              "2  2014-08-27 11:29:44   32    Male          Canada   NaN           NaN   \n",
              "3  2014-08-27 11:29:46   31    Male  United Kingdom   NaN           NaN   \n",
              "4  2014-08-27 11:30:22   31    Male   United States    TX           NaN   \n",
              "\n",
              "  family_history treatment work_interfere    no_employees   ...     \\\n",
              "0             No       Yes          Often            6-25   ...      \n",
              "1             No        No         Rarely  More than 1000   ...      \n",
              "2             No        No         Rarely            6-25   ...      \n",
              "3            Yes       Yes          Often          26-100   ...      \n",
              "4             No        No          Never         100-500   ...      \n",
              "\n",
              "                leave mental_health_consequence phys_health_consequence  \\\n",
              "0       Somewhat easy                        No                      No   \n",
              "1          Don't know                     Maybe                      No   \n",
              "2  Somewhat difficult                        No                      No   \n",
              "3  Somewhat difficult                       Yes                     Yes   \n",
              "4          Don't know                        No                      No   \n",
              "\n",
              "      coworkers supervisor mental_health_interview phys_health_interview  \\\n",
              "0  Some of them        Yes                      No                 Maybe   \n",
              "1            No         No                      No                    No   \n",
              "2           Yes        Yes                     Yes                   Yes   \n",
              "3  Some of them         No                   Maybe                 Maybe   \n",
              "4  Some of them        Yes                     Yes                   Yes   \n",
              "\n",
              "  mental_vs_physical obs_consequence comments  \n",
              "0                Yes              No      NaN  \n",
              "1         Don't know              No      NaN  \n",
              "2                 No              No      NaN  \n",
              "3                 No             Yes      NaN  \n",
              "4         Don't know              No      NaN  \n",
              "\n",
              "[5 rows x 27 columns]"
            ],
            "text/html": "<div>\n<style scoped>\n    .dataframe tbody tr th:only-of-type {\n        vertical-align: middle;\n    }\n\n    .dataframe tbody tr th {\n        vertical-align: top;\n    }\n\n    .dataframe thead th {\n        text-align: right;\n    }\n</style>\n<table border=\"1\" class=\"dataframe\">\n  <thead>\n    <tr style=\"text-align: right;\">\n      <th></th>\n      <th>Timestamp</th>\n      <th>Age</th>\n      <th>Gender</th>\n      <th>Country</th>\n      <th>state</th>\n      <th>self_employed</th>\n      <th>family_history</th>\n      <th>treatment</th>\n      <th>work_interfere</th>\n      <th>no_employees</th>\n      <th>...</th>\n      <th>leave</th>\n      <th>mental_health_consequence</th>\n      <th>phys_health_consequence</th>\n      <th>coworkers</th>\n      <th>supervisor</th>\n      <th>mental_health_interview</th>\n      <th>phys_health_interview</th>\n      <th>mental_vs_physical</th>\n      <th>obs_consequence</th>\n      <th>comments</th>\n    </tr>\n  </thead>\n  <tbody>\n    <tr>\n      <th>0</th>\n      <td>2014-08-27 11:29:31</td>\n      <td>37</td>\n      <td>Female</td>\n      <td>United States</td>\n      <td>IL</td>\n      <td>NaN</td>\n      <td>No</td>\n      <td>Yes</td>\n      <td>Often</td>\n      <td>6-25</td>\n      <td>...</td>\n      <td>Somewhat easy</td>\n      <td>No</td>\n      <td>No</td>\n      <td>Some of them</td>\n      <td>Yes</td>\n      <td>No</td>\n      <td>Maybe</td>\n      <td>Yes</td>\n      <td>No</td>\n      <td>NaN</td>\n    </tr>\n    <tr>\n      <th>1</th>\n      <td>2014-08-27 11:29:37</td>\n      <td>44</td>\n      <td>M</td>\n      <td>United States</td>\n      <td>IN</td>\n      <td>NaN</td>\n      <td>No</td>\n      <td>No</td>\n      <td>Rarely</td>\n      <td>More than 1000</td>\n      <td>...</td>\n      <td>Don't know</td>\n      <td>Maybe</td>\n      <td>No</td>\n      <td>No</td>\n      <td>No</td>\n      <td>No</td>\n      <td>No</td>\n      <td>Don't know</td>\n      <td>No</td>\n      <td>NaN</td>\n    </tr>\n    <tr>\n      <th>2</th>\n      <td>2014-08-27 11:29:44</td>\n      <td>32</td>\n      <td>Male</td>\n      <td>Canada</td>\n      <td>NaN</td>\n      <td>NaN</td>\n      <td>No</td>\n      <td>No</td>\n      <td>Rarely</td>\n      <td>6-25</td>\n      <td>...</td>\n      <td>Somewhat difficult</td>\n      <td>No</td>\n      <td>No</td>\n      <td>Yes</td>\n      <td>Yes</td>\n      <td>Yes</td>\n      <td>Yes</td>\n      <td>No</td>\n      <td>No</td>\n      <td>NaN</td>\n    </tr>\n    <tr>\n      <th>3</th>\n      <td>2014-08-27 11:29:46</td>\n      <td>31</td>\n      <td>Male</td>\n      <td>United Kingdom</td>\n      <td>NaN</td>\n      <td>NaN</td>\n      <td>Yes</td>\n      <td>Yes</td>\n      <td>Often</td>\n      <td>26-100</td>\n      <td>...</td>\n      <td>Somewhat difficult</td>\n      <td>Yes</td>\n      <td>Yes</td>\n      <td>Some of them</td>\n      <td>No</td>\n      <td>Maybe</td>\n      <td>Maybe</td>\n      <td>No</td>\n      <td>Yes</td>\n      <td>NaN</td>\n    </tr>\n    <tr>\n      <th>4</th>\n      <td>2014-08-27 11:30:22</td>\n      <td>31</td>\n      <td>Male</td>\n      <td>United States</td>\n      <td>TX</td>\n      <td>NaN</td>\n      <td>No</td>\n      <td>No</td>\n      <td>Never</td>\n      <td>100-500</td>\n      <td>...</td>\n      <td>Don't know</td>\n      <td>No</td>\n      <td>No</td>\n      <td>Some of them</td>\n      <td>Yes</td>\n      <td>Yes</td>\n      <td>Yes</td>\n      <td>Don't know</td>\n      <td>No</td>\n      <td>NaN</td>\n    </tr>\n  </tbody>\n</table>\n<p>5 rows × 27 columns</p>\n</div>"
          },
          "metadata": {},
          "execution_count": 3
        }
      ]
    },
    {
      "cell_type": "markdown",
      "metadata": {
        "id": "nZ7QaiE3WWzz"
      },
      "source": [
        "# Data Cleaning"
      ]
    },
    {
      "cell_type": "code",
      "metadata": {
        "id": "yo6TVj8FTewk"
      },
      "source": [
        "from clean import clean\n",
        "df = clean(df)"
      ],
      "execution_count": 4,
      "outputs": []
    },
    {
      "cell_type": "code",
      "metadata": {
        "colab": {
          "base_uri": "https://localhost:8080/",
          "height": 292
        },
        "id": "YZuqRLysTgYZ",
        "outputId": "3ffb92ed-c2af-42e4-8920-d98e2be50f60"
      },
      "source": [
        "df.head()"
      ],
      "execution_count": 5,
      "outputs": [
        {
          "output_type": "execute_result",
          "data": {
            "text/plain": [
              "     Age Gender self_employed family_history treatment work_interfere  \\\n",
              "18  46.0      M           Yes            Yes        No            yes   \n",
              "20  29.0      M            No            Yes       Yes            yes   \n",
              "21  31.0      M           Yes             No        No             no   \n",
              "22  46.0      M            No             No       Yes            yes   \n",
              "23  41.0      M            No             No       Yes             no   \n",
              "\n",
              "      no_employees remote_work tech_company    benefits       ...        \\\n",
              "18            1-25         Yes          Yes         Yes       ...         \n",
              "20         100-500          No          Yes         Yes       ...         \n",
              "21            1-25         Yes          Yes          No       ...         \n",
              "22          26-100         Yes          Yes         Yes       ...         \n",
              "23  More than 1000          No           No  Don't know       ...         \n",
              "\n",
              "   wellness_program   seek_help   anonymity               leave  \\\n",
              "18              Yes  Don't know         Yes           Very easy   \n",
              "20               No          No          No  Somewhat difficult   \n",
              "21               No          No         Yes  Somewhat difficult   \n",
              "22               No          No  Don't know          Don't know   \n",
              "23               No  Don't know  Don't know          Don't know   \n",
              "\n",
              "   mental_health_consequence     coworkers    supervisor  \\\n",
              "18                        No           Yes           Yes   \n",
              "20                     Maybe  Some of them  Some of them   \n",
              "21                        No  Some of them  Some of them   \n",
              "22                     Maybe  Some of them           Yes   \n",
              "23                     Maybe            No            No   \n",
              "\n",
              "   mental_health_interview mental_vs_physical obs_consequence  \n",
              "18                      No                Yes             Yes  \n",
              "20                      No                 No              No  \n",
              "21                      No                Yes              No  \n",
              "22                      No                 No              No  \n",
              "23                      No         Don't know              No  \n",
              "\n",
              "[5 rows x 21 columns]"
            ],
            "text/html": "<div>\n<style scoped>\n    .dataframe tbody tr th:only-of-type {\n        vertical-align: middle;\n    }\n\n    .dataframe tbody tr th {\n        vertical-align: top;\n    }\n\n    .dataframe thead th {\n        text-align: right;\n    }\n</style>\n<table border=\"1\" class=\"dataframe\">\n  <thead>\n    <tr style=\"text-align: right;\">\n      <th></th>\n      <th>Age</th>\n      <th>Gender</th>\n      <th>self_employed</th>\n      <th>family_history</th>\n      <th>treatment</th>\n      <th>work_interfere</th>\n      <th>no_employees</th>\n      <th>remote_work</th>\n      <th>tech_company</th>\n      <th>benefits</th>\n      <th>...</th>\n      <th>wellness_program</th>\n      <th>seek_help</th>\n      <th>anonymity</th>\n      <th>leave</th>\n      <th>mental_health_consequence</th>\n      <th>coworkers</th>\n      <th>supervisor</th>\n      <th>mental_health_interview</th>\n      <th>mental_vs_physical</th>\n      <th>obs_consequence</th>\n    </tr>\n  </thead>\n  <tbody>\n    <tr>\n      <th>18</th>\n      <td>46.0</td>\n      <td>M</td>\n      <td>Yes</td>\n      <td>Yes</td>\n      <td>No</td>\n      <td>yes</td>\n      <td>1-25</td>\n      <td>Yes</td>\n      <td>Yes</td>\n      <td>Yes</td>\n      <td>...</td>\n      <td>Yes</td>\n      <td>Don't know</td>\n      <td>Yes</td>\n      <td>Very easy</td>\n      <td>No</td>\n      <td>Yes</td>\n      <td>Yes</td>\n      <td>No</td>\n      <td>Yes</td>\n      <td>Yes</td>\n    </tr>\n    <tr>\n      <th>20</th>\n      <td>29.0</td>\n      <td>M</td>\n      <td>No</td>\n      <td>Yes</td>\n      <td>Yes</td>\n      <td>yes</td>\n      <td>100-500</td>\n      <td>No</td>\n      <td>Yes</td>\n      <td>Yes</td>\n      <td>...</td>\n      <td>No</td>\n      <td>No</td>\n      <td>No</td>\n      <td>Somewhat difficult</td>\n      <td>Maybe</td>\n      <td>Some of them</td>\n      <td>Some of them</td>\n      <td>No</td>\n      <td>No</td>\n      <td>No</td>\n    </tr>\n    <tr>\n      <th>21</th>\n      <td>31.0</td>\n      <td>M</td>\n      <td>Yes</td>\n      <td>No</td>\n      <td>No</td>\n      <td>no</td>\n      <td>1-25</td>\n      <td>Yes</td>\n      <td>Yes</td>\n      <td>No</td>\n      <td>...</td>\n      <td>No</td>\n      <td>No</td>\n      <td>Yes</td>\n      <td>Somewhat difficult</td>\n      <td>No</td>\n      <td>Some of them</td>\n      <td>Some of them</td>\n      <td>No</td>\n      <td>Yes</td>\n      <td>No</td>\n    </tr>\n    <tr>\n      <th>22</th>\n      <td>46.0</td>\n      <td>M</td>\n      <td>No</td>\n      <td>No</td>\n      <td>Yes</td>\n      <td>yes</td>\n      <td>26-100</td>\n      <td>Yes</td>\n      <td>Yes</td>\n      <td>Yes</td>\n      <td>...</td>\n      <td>No</td>\n      <td>No</td>\n      <td>Don't know</td>\n      <td>Don't know</td>\n      <td>Maybe</td>\n      <td>Some of them</td>\n      <td>Yes</td>\n      <td>No</td>\n      <td>No</td>\n      <td>No</td>\n    </tr>\n    <tr>\n      <th>23</th>\n      <td>41.0</td>\n      <td>M</td>\n      <td>No</td>\n      <td>No</td>\n      <td>Yes</td>\n      <td>no</td>\n      <td>More than 1000</td>\n      <td>No</td>\n      <td>No</td>\n      <td>Don't know</td>\n      <td>...</td>\n      <td>No</td>\n      <td>Don't know</td>\n      <td>Don't know</td>\n      <td>Don't know</td>\n      <td>Maybe</td>\n      <td>No</td>\n      <td>No</td>\n      <td>No</td>\n      <td>Don't know</td>\n      <td>No</td>\n    </tr>\n  </tbody>\n</table>\n<p>5 rows × 21 columns</p>\n</div>"
          },
          "metadata": {},
          "execution_count": 5
        }
      ]
    },
    {
      "cell_type": "code",
      "metadata": {
        "id": "DdSHNSXiTjCu"
      },
      "source": [
        "X = df.drop('work_interfere', axis=1)\n",
        "y = df['work_interfere']"
      ],
      "execution_count": 6,
      "outputs": []
    },
    {
      "cell_type": "code",
      "metadata": {
        "id": "nWzuXRFNVEAa"
      },
      "source": [
        "from encode import encode\n",
        "X = encode(X)\n",
        "X.head()"
      ],
      "execution_count": 7,
      "outputs": [
        {
          "output_type": "execute_result",
          "data": {
            "text/plain": [
              "   Gender_F  Gender_M  Gender_other  Gender_queer  Gender_trans  \\\n",
              "0       0.0       1.0           0.0           0.0           0.0   \n",
              "1       0.0       1.0           0.0           0.0           0.0   \n",
              "2       0.0       1.0           0.0           0.0           0.0   \n",
              "3       0.0       1.0           0.0           0.0           0.0   \n",
              "4       0.0       1.0           0.0           0.0           0.0   \n",
              "\n",
              "   self_employed_No  self_employed_Yes  family_history_No  family_history_Yes  \\\n",
              "0               0.0                1.0                0.0                 1.0   \n",
              "1               1.0                0.0                0.0                 1.0   \n",
              "2               0.0                1.0                1.0                 0.0   \n",
              "3               1.0                0.0                1.0                 0.0   \n",
              "4               1.0                0.0                1.0                 0.0   \n",
              "\n",
              "   treatment_No  ...   supervisor_Yes  mental_health_interview_Maybe  \\\n",
              "0           1.0  ...              1.0                            0.0   \n",
              "1           0.0  ...              0.0                            0.0   \n",
              "2           1.0  ...              0.0                            0.0   \n",
              "3           0.0  ...              1.0                            0.0   \n",
              "4           0.0  ...              0.0                            0.0   \n",
              "\n",
              "   mental_health_interview_No  mental_health_interview_Yes  \\\n",
              "0                         1.0                          0.0   \n",
              "1                         1.0                          0.0   \n",
              "2                         1.0                          0.0   \n",
              "3                         1.0                          0.0   \n",
              "4                         1.0                          0.0   \n",
              "\n",
              "   mental_vs_physical_Don't know  mental_vs_physical_No  \\\n",
              "0                            0.0                    0.0   \n",
              "1                            0.0                    1.0   \n",
              "2                            0.0                    0.0   \n",
              "3                            0.0                    1.0   \n",
              "4                            1.0                    0.0   \n",
              "\n",
              "   mental_vs_physical_Yes  obs_consequence_No  obs_consequence_Yes   Age  \n",
              "0                     1.0                 0.0                  1.0  46.0  \n",
              "1                     0.0                 1.0                  0.0  29.0  \n",
              "2                     1.0                 1.0                  0.0  31.0  \n",
              "3                     0.0                 1.0                  0.0  46.0  \n",
              "4                     0.0                 1.0                  0.0  41.0  \n",
              "\n",
              "[5 rows x 58 columns]"
            ],
            "text/html": "<div>\n<style scoped>\n    .dataframe tbody tr th:only-of-type {\n        vertical-align: middle;\n    }\n\n    .dataframe tbody tr th {\n        vertical-align: top;\n    }\n\n    .dataframe thead th {\n        text-align: right;\n    }\n</style>\n<table border=\"1\" class=\"dataframe\">\n  <thead>\n    <tr style=\"text-align: right;\">\n      <th></th>\n      <th>Gender_F</th>\n      <th>Gender_M</th>\n      <th>Gender_other</th>\n      <th>Gender_queer</th>\n      <th>Gender_trans</th>\n      <th>self_employed_No</th>\n      <th>self_employed_Yes</th>\n      <th>family_history_No</th>\n      <th>family_history_Yes</th>\n      <th>treatment_No</th>\n      <th>...</th>\n      <th>supervisor_Yes</th>\n      <th>mental_health_interview_Maybe</th>\n      <th>mental_health_interview_No</th>\n      <th>mental_health_interview_Yes</th>\n      <th>mental_vs_physical_Don't know</th>\n      <th>mental_vs_physical_No</th>\n      <th>mental_vs_physical_Yes</th>\n      <th>obs_consequence_No</th>\n      <th>obs_consequence_Yes</th>\n      <th>Age</th>\n    </tr>\n  </thead>\n  <tbody>\n    <tr>\n      <th>0</th>\n      <td>0.0</td>\n      <td>1.0</td>\n      <td>0.0</td>\n      <td>0.0</td>\n      <td>0.0</td>\n      <td>0.0</td>\n      <td>1.0</td>\n      <td>0.0</td>\n      <td>1.0</td>\n      <td>1.0</td>\n      <td>...</td>\n      <td>1.0</td>\n      <td>0.0</td>\n      <td>1.0</td>\n      <td>0.0</td>\n      <td>0.0</td>\n      <td>0.0</td>\n      <td>1.0</td>\n      <td>0.0</td>\n      <td>1.0</td>\n      <td>46.0</td>\n    </tr>\n    <tr>\n      <th>1</th>\n      <td>0.0</td>\n      <td>1.0</td>\n      <td>0.0</td>\n      <td>0.0</td>\n      <td>0.0</td>\n      <td>1.0</td>\n      <td>0.0</td>\n      <td>0.0</td>\n      <td>1.0</td>\n      <td>0.0</td>\n      <td>...</td>\n      <td>0.0</td>\n      <td>0.0</td>\n      <td>1.0</td>\n      <td>0.0</td>\n      <td>0.0</td>\n      <td>1.0</td>\n      <td>0.0</td>\n      <td>1.0</td>\n      <td>0.0</td>\n      <td>29.0</td>\n    </tr>\n    <tr>\n      <th>2</th>\n      <td>0.0</td>\n      <td>1.0</td>\n      <td>0.0</td>\n      <td>0.0</td>\n      <td>0.0</td>\n      <td>0.0</td>\n      <td>1.0</td>\n      <td>1.0</td>\n      <td>0.0</td>\n      <td>1.0</td>\n      <td>...</td>\n      <td>0.0</td>\n      <td>0.0</td>\n      <td>1.0</td>\n      <td>0.0</td>\n      <td>0.0</td>\n      <td>0.0</td>\n      <td>1.0</td>\n      <td>1.0</td>\n      <td>0.0</td>\n      <td>31.0</td>\n    </tr>\n    <tr>\n      <th>3</th>\n      <td>0.0</td>\n      <td>1.0</td>\n      <td>0.0</td>\n      <td>0.0</td>\n      <td>0.0</td>\n      <td>1.0</td>\n      <td>0.0</td>\n      <td>1.0</td>\n      <td>0.0</td>\n      <td>0.0</td>\n      <td>...</td>\n      <td>1.0</td>\n      <td>0.0</td>\n      <td>1.0</td>\n      <td>0.0</td>\n      <td>0.0</td>\n      <td>1.0</td>\n      <td>0.0</td>\n      <td>1.0</td>\n      <td>0.0</td>\n      <td>46.0</td>\n    </tr>\n    <tr>\n      <th>4</th>\n      <td>0.0</td>\n      <td>1.0</td>\n      <td>0.0</td>\n      <td>0.0</td>\n      <td>0.0</td>\n      <td>1.0</td>\n      <td>0.0</td>\n      <td>1.0</td>\n      <td>0.0</td>\n      <td>0.0</td>\n      <td>...</td>\n      <td>0.0</td>\n      <td>0.0</td>\n      <td>1.0</td>\n      <td>0.0</td>\n      <td>1.0</td>\n      <td>0.0</td>\n      <td>0.0</td>\n      <td>1.0</td>\n      <td>0.0</td>\n      <td>41.0</td>\n    </tr>\n  </tbody>\n</table>\n<p>5 rows × 58 columns</p>\n</div>"
          },
          "metadata": {},
          "execution_count": 7
        }
      ]
    },
    {
      "cell_type": "code",
      "execution_count": 13,
      "metadata": {},
      "outputs": [
        {
          "output_type": "execute_result",
          "data": {
            "text/plain": [
              "['Gender_F',\n",
              " 'Gender_M',\n",
              " 'Gender_other',\n",
              " 'Gender_queer',\n",
              " 'Gender_trans',\n",
              " 'self_employed_No',\n",
              " 'self_employed_Yes',\n",
              " 'family_history_No',\n",
              " 'family_history_Yes',\n",
              " 'treatment_No',\n",
              " 'treatment_Yes',\n",
              " 'no_employees_1-25',\n",
              " 'no_employees_100-500',\n",
              " 'no_employees_26-100',\n",
              " 'no_employees_500-1000',\n",
              " 'no_employees_More than 1000',\n",
              " 'remote_work_No',\n",
              " 'remote_work_Yes',\n",
              " 'tech_company_No',\n",
              " 'tech_company_Yes',\n",
              " \"benefits_Don't know\",\n",
              " 'benefits_No',\n",
              " 'benefits_Yes',\n",
              " 'care_options_No',\n",
              " 'care_options_Not sure',\n",
              " 'care_options_Yes',\n",
              " \"wellness_program_Don't know\",\n",
              " 'wellness_program_No',\n",
              " 'wellness_program_Yes',\n",
              " \"seek_help_Don't know\",\n",
              " 'seek_help_No',\n",
              " 'seek_help_Yes',\n",
              " \"anonymity_Don't know\",\n",
              " 'anonymity_No',\n",
              " 'anonymity_Yes',\n",
              " \"leave_Don't know\",\n",
              " 'leave_Somewhat difficult',\n",
              " 'leave_Somewhat easy',\n",
              " 'leave_Very difficult',\n",
              " 'leave_Very easy',\n",
              " 'mental_health_consequence_Maybe',\n",
              " 'mental_health_consequence_No',\n",
              " 'mental_health_consequence_Yes',\n",
              " 'coworkers_No',\n",
              " 'coworkers_Some of them',\n",
              " 'coworkers_Yes',\n",
              " 'supervisor_No',\n",
              " 'supervisor_Some of them',\n",
              " 'supervisor_Yes',\n",
              " 'mental_health_interview_Maybe',\n",
              " 'mental_health_interview_No',\n",
              " 'mental_health_interview_Yes',\n",
              " \"mental_vs_physical_Don't know\",\n",
              " 'mental_vs_physical_No',\n",
              " 'mental_vs_physical_Yes',\n",
              " 'obs_consequence_No',\n",
              " 'obs_consequence_Yes',\n",
              " 'Age']"
            ]
          },
          "metadata": {},
          "execution_count": 13
        }
      ],
      "source": [
        "list(X.columns)"
      ]
    },
    {
      "cell_type": "markdown",
      "metadata": {
        "id": "Cyd5avh7Wfbs"
      },
      "source": [
        "# Random Forest Classifier"
      ]
    },
    {
      "cell_type": "code",
      "metadata": {
        "id": "weXSpXqHTwAk"
      },
      "source": [
        "from sklearn.model_selection import train_test_split\n",
        "\n",
        "X_train, X_test, y_train, y_test = train_test_split(X, y, random_state=1000, test_size=0.2)"
      ],
      "execution_count": 9,
      "outputs": []
    },
    {
      "cell_type": "code",
      "metadata": {
        "id": "SC0U9YQUUKUJ"
      },
      "source": [
        "from sklearn.ensemble import RandomForestClassifier\n",
        "forest = RandomForestClassifier(n_estimators=100, random_state=28, max_depth=5)\n",
        "\n",
        "forest_model= forest.fit(X_train, y_train)"
      ],
      "execution_count": 10,
      "outputs": []
    },
    {
      "cell_type": "code",
      "metadata": {
        "colab": {
          "base_uri": "https://localhost:8080/"
        },
        "id": "UzLjXfwQUmDU",
        "outputId": "d070d9c5-01ee-474b-86ea-3158d1b578e1"
      },
      "source": [
        "print(forest_model.score(X_test, y_test).round(2) * 100, \"%\")"
      ],
      "execution_count": 11,
      "outputs": [
        {
          "output_type": "stream",
          "name": "stdout",
          "text": [
            "74.0 %\n"
          ]
        }
      ]
    },
    {
      "cell_type": "code",
      "metadata": {
        "id": "f0zRzl4qVeAK"
      },
      "source": [
        "# df_features = pd.DataFrame(X_train.columns)\n",
        "# df_features['feature_importances'] = forest_model.feature_importances_\n",
        "# df_features.columns = ['features', 'feature_importances']\n",
        "\n",
        "# df_features = df_features.sort_values(by='feature_importances', ascending=False)\n",
        "\n",
        "# df_features.sort_values('features')\n",
        "# df_features.reset_index(drop='first', inplace=True)"
      ],
      "execution_count": 12,
      "outputs": []
    },
    {
      "cell_type": "code",
      "metadata": {
        "id": "YNqVwe-rVpq6"
      },
      "source": [],
      "execution_count": null,
      "outputs": []
    }
  ]
}