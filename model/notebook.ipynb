{
  "nbformat": 4,
  "nbformat_minor": 0,
  "metadata": {
    "colab": {
      "name": "notebook.ipynb",
      "provenance": [],
      "collapsed_sections": []
    },
    "kernelspec": {
      "name": "python385jvsc74a57bd0dbc5f0eb9ef3e31cf8a391f3ff55fcf94af718aea2ba500ec39c7f97d3bebd92",
      "display_name": "Python 3.8.5 64-bit ('base': conda)"
    },
    "language_info": {
      "name": "python",
      "version": "3.8.5"
    }
  },
  "cells": [
    {
      "cell_type": "code",
      "metadata": {
        "id": "qw4bwc87QBDE"
      },
      "source": [
        "import pandas as pd\n",
        "from sklearn.preprocessing import OneHotEncoder"
      ],
      "execution_count": 36,
      "outputs": []
    },
    {
      "cell_type": "code",
      "metadata": {
        "colab": {
          "base_uri": "https://localhost:8080/",
          "height": 394
        },
        "id": "m_cm6vxiSWRi",
        "outputId": "93b556ab-39a5-4a6b-b360-0414418c9561"
      },
      "source": [
        "df = pd.read_csv(\"data.csv\")\n",
        "df.head()"
      ],
      "execution_count": 37,
      "outputs": [
        {
          "output_type": "execute_result",
          "data": {
            "text/plain": [
              "             Timestamp  Age  Gender         Country state self_employed  \\\n",
              "0  2014-08-27 11:29:31   37  Female   United States    IL           NaN   \n",
              "1  2014-08-27 11:29:37   44       M   United States    IN           NaN   \n",
              "2  2014-08-27 11:29:44   32    Male          Canada   NaN           NaN   \n",
              "3  2014-08-27 11:29:46   31    Male  United Kingdom   NaN           NaN   \n",
              "4  2014-08-27 11:30:22   31    Male   United States    TX           NaN   \n",
              "\n",
              "  family_history treatment work_interfere    no_employees  ...  \\\n",
              "0             No       Yes          Often            6-25  ...   \n",
              "1             No        No         Rarely  More than 1000  ...   \n",
              "2             No        No         Rarely            6-25  ...   \n",
              "3            Yes       Yes          Often          26-100  ...   \n",
              "4             No        No          Never         100-500  ...   \n",
              "\n",
              "                leave mental_health_consequence phys_health_consequence  \\\n",
              "0       Somewhat easy                        No                      No   \n",
              "1          Don't know                     Maybe                      No   \n",
              "2  Somewhat difficult                        No                      No   \n",
              "3  Somewhat difficult                       Yes                     Yes   \n",
              "4          Don't know                        No                      No   \n",
              "\n",
              "      coworkers supervisor mental_health_interview phys_health_interview  \\\n",
              "0  Some of them        Yes                      No                 Maybe   \n",
              "1            No         No                      No                    No   \n",
              "2           Yes        Yes                     Yes                   Yes   \n",
              "3  Some of them         No                   Maybe                 Maybe   \n",
              "4  Some of them        Yes                     Yes                   Yes   \n",
              "\n",
              "  mental_vs_physical obs_consequence comments  \n",
              "0                Yes              No      NaN  \n",
              "1         Don't know              No      NaN  \n",
              "2                 No              No      NaN  \n",
              "3                 No             Yes      NaN  \n",
              "4         Don't know              No      NaN  \n",
              "\n",
              "[5 rows x 27 columns]"
            ],
            "text/html": "<div>\n<style scoped>\n    .dataframe tbody tr th:only-of-type {\n        vertical-align: middle;\n    }\n\n    .dataframe tbody tr th {\n        vertical-align: top;\n    }\n\n    .dataframe thead th {\n        text-align: right;\n    }\n</style>\n<table border=\"1\" class=\"dataframe\">\n  <thead>\n    <tr style=\"text-align: right;\">\n      <th></th>\n      <th>Timestamp</th>\n      <th>Age</th>\n      <th>Gender</th>\n      <th>Country</th>\n      <th>state</th>\n      <th>self_employed</th>\n      <th>family_history</th>\n      <th>treatment</th>\n      <th>work_interfere</th>\n      <th>no_employees</th>\n      <th>...</th>\n      <th>leave</th>\n      <th>mental_health_consequence</th>\n      <th>phys_health_consequence</th>\n      <th>coworkers</th>\n      <th>supervisor</th>\n      <th>mental_health_interview</th>\n      <th>phys_health_interview</th>\n      <th>mental_vs_physical</th>\n      <th>obs_consequence</th>\n      <th>comments</th>\n    </tr>\n  </thead>\n  <tbody>\n    <tr>\n      <th>0</th>\n      <td>2014-08-27 11:29:31</td>\n      <td>37</td>\n      <td>Female</td>\n      <td>United States</td>\n      <td>IL</td>\n      <td>NaN</td>\n      <td>No</td>\n      <td>Yes</td>\n      <td>Often</td>\n      <td>6-25</td>\n      <td>...</td>\n      <td>Somewhat easy</td>\n      <td>No</td>\n      <td>No</td>\n      <td>Some of them</td>\n      <td>Yes</td>\n      <td>No</td>\n      <td>Maybe</td>\n      <td>Yes</td>\n      <td>No</td>\n      <td>NaN</td>\n    </tr>\n    <tr>\n      <th>1</th>\n      <td>2014-08-27 11:29:37</td>\n      <td>44</td>\n      <td>M</td>\n      <td>United States</td>\n      <td>IN</td>\n      <td>NaN</td>\n      <td>No</td>\n      <td>No</td>\n      <td>Rarely</td>\n      <td>More than 1000</td>\n      <td>...</td>\n      <td>Don't know</td>\n      <td>Maybe</td>\n      <td>No</td>\n      <td>No</td>\n      <td>No</td>\n      <td>No</td>\n      <td>No</td>\n      <td>Don't know</td>\n      <td>No</td>\n      <td>NaN</td>\n    </tr>\n    <tr>\n      <th>2</th>\n      <td>2014-08-27 11:29:44</td>\n      <td>32</td>\n      <td>Male</td>\n      <td>Canada</td>\n      <td>NaN</td>\n      <td>NaN</td>\n      <td>No</td>\n      <td>No</td>\n      <td>Rarely</td>\n      <td>6-25</td>\n      <td>...</td>\n      <td>Somewhat difficult</td>\n      <td>No</td>\n      <td>No</td>\n      <td>Yes</td>\n      <td>Yes</td>\n      <td>Yes</td>\n      <td>Yes</td>\n      <td>No</td>\n      <td>No</td>\n      <td>NaN</td>\n    </tr>\n    <tr>\n      <th>3</th>\n      <td>2014-08-27 11:29:46</td>\n      <td>31</td>\n      <td>Male</td>\n      <td>United Kingdom</td>\n      <td>NaN</td>\n      <td>NaN</td>\n      <td>Yes</td>\n      <td>Yes</td>\n      <td>Often</td>\n      <td>26-100</td>\n      <td>...</td>\n      <td>Somewhat difficult</td>\n      <td>Yes</td>\n      <td>Yes</td>\n      <td>Some of them</td>\n      <td>No</td>\n      <td>Maybe</td>\n      <td>Maybe</td>\n      <td>No</td>\n      <td>Yes</td>\n      <td>NaN</td>\n    </tr>\n    <tr>\n      <th>4</th>\n      <td>2014-08-27 11:30:22</td>\n      <td>31</td>\n      <td>Male</td>\n      <td>United States</td>\n      <td>TX</td>\n      <td>NaN</td>\n      <td>No</td>\n      <td>No</td>\n      <td>Never</td>\n      <td>100-500</td>\n      <td>...</td>\n      <td>Don't know</td>\n      <td>No</td>\n      <td>No</td>\n      <td>Some of them</td>\n      <td>Yes</td>\n      <td>Yes</td>\n      <td>Yes</td>\n      <td>Don't know</td>\n      <td>No</td>\n      <td>NaN</td>\n    </tr>\n  </tbody>\n</table>\n<p>5 rows × 27 columns</p>\n</div>"
          },
          "metadata": {},
          "execution_count": 37
        }
      ]
    },
    {
      "cell_type": "markdown",
      "metadata": {
        "id": "nZ7QaiE3WWzz"
      },
      "source": [
        "# Data Cleaning"
      ]
    },
    {
      "cell_type": "code",
      "metadata": {
        "id": "yo6TVj8FTewk"
      },
      "source": [
        "from clean import clean\n",
        "df = clean(df)"
      ],
      "execution_count": 38,
      "outputs": []
    },
    {
      "cell_type": "code",
      "metadata": {
        "colab": {
          "base_uri": "https://localhost:8080/",
          "height": 292
        },
        "id": "YZuqRLysTgYZ",
        "outputId": "3ffb92ed-c2af-42e4-8920-d98e2be50f60"
      },
      "source": [
        "df.head()"
      ],
      "execution_count": 39,
      "outputs": [
        {
          "output_type": "execute_result",
          "data": {
            "text/plain": [
              "     Age Gender self_employed family_history treatment work_interfere  \\\n",
              "18  46.0      M           Yes            Yes        No            yes   \n",
              "20  29.0      M            No            Yes       Yes            yes   \n",
              "21  31.0      M           Yes             No        No             no   \n",
              "22  46.0      M            No             No       Yes            yes   \n",
              "23  41.0      M            No             No       Yes             no   \n",
              "\n",
              "      no_employees remote_work tech_company    benefits  ... wellness_program  \\\n",
              "18            1-25         Yes          Yes         Yes  ...              Yes   \n",
              "20         100-500          No          Yes         Yes  ...               No   \n",
              "21            1-25         Yes          Yes          No  ...               No   \n",
              "22          26-100         Yes          Yes         Yes  ...               No   \n",
              "23  More than 1000          No           No  Don't know  ...               No   \n",
              "\n",
              "     seek_help   anonymity               leave mental_health_consequence  \\\n",
              "18  Don't know         Yes           Very easy                        No   \n",
              "20          No          No  Somewhat difficult                     Maybe   \n",
              "21          No         Yes  Somewhat difficult                        No   \n",
              "22          No  Don't know          Don't know                     Maybe   \n",
              "23  Don't know  Don't know          Don't know                     Maybe   \n",
              "\n",
              "       coworkers    supervisor mental_health_interview mental_vs_physical  \\\n",
              "18           Yes           Yes                      No                Yes   \n",
              "20  Some of them  Some of them                      No                 No   \n",
              "21  Some of them  Some of them                      No                Yes   \n",
              "22  Some of them           Yes                      No                 No   \n",
              "23            No            No                      No         Don't know   \n",
              "\n",
              "   obs_consequence  \n",
              "18             Yes  \n",
              "20              No  \n",
              "21              No  \n",
              "22              No  \n",
              "23              No  \n",
              "\n",
              "[5 rows x 21 columns]"
            ],
            "text/html": "<div>\n<style scoped>\n    .dataframe tbody tr th:only-of-type {\n        vertical-align: middle;\n    }\n\n    .dataframe tbody tr th {\n        vertical-align: top;\n    }\n\n    .dataframe thead th {\n        text-align: right;\n    }\n</style>\n<table border=\"1\" class=\"dataframe\">\n  <thead>\n    <tr style=\"text-align: right;\">\n      <th></th>\n      <th>Age</th>\n      <th>Gender</th>\n      <th>self_employed</th>\n      <th>family_history</th>\n      <th>treatment</th>\n      <th>work_interfere</th>\n      <th>no_employees</th>\n      <th>remote_work</th>\n      <th>tech_company</th>\n      <th>benefits</th>\n      <th>...</th>\n      <th>wellness_program</th>\n      <th>seek_help</th>\n      <th>anonymity</th>\n      <th>leave</th>\n      <th>mental_health_consequence</th>\n      <th>coworkers</th>\n      <th>supervisor</th>\n      <th>mental_health_interview</th>\n      <th>mental_vs_physical</th>\n      <th>obs_consequence</th>\n    </tr>\n  </thead>\n  <tbody>\n    <tr>\n      <th>18</th>\n      <td>46.0</td>\n      <td>M</td>\n      <td>Yes</td>\n      <td>Yes</td>\n      <td>No</td>\n      <td>yes</td>\n      <td>1-25</td>\n      <td>Yes</td>\n      <td>Yes</td>\n      <td>Yes</td>\n      <td>...</td>\n      <td>Yes</td>\n      <td>Don't know</td>\n      <td>Yes</td>\n      <td>Very easy</td>\n      <td>No</td>\n      <td>Yes</td>\n      <td>Yes</td>\n      <td>No</td>\n      <td>Yes</td>\n      <td>Yes</td>\n    </tr>\n    <tr>\n      <th>20</th>\n      <td>29.0</td>\n      <td>M</td>\n      <td>No</td>\n      <td>Yes</td>\n      <td>Yes</td>\n      <td>yes</td>\n      <td>100-500</td>\n      <td>No</td>\n      <td>Yes</td>\n      <td>Yes</td>\n      <td>...</td>\n      <td>No</td>\n      <td>No</td>\n      <td>No</td>\n      <td>Somewhat difficult</td>\n      <td>Maybe</td>\n      <td>Some of them</td>\n      <td>Some of them</td>\n      <td>No</td>\n      <td>No</td>\n      <td>No</td>\n    </tr>\n    <tr>\n      <th>21</th>\n      <td>31.0</td>\n      <td>M</td>\n      <td>Yes</td>\n      <td>No</td>\n      <td>No</td>\n      <td>no</td>\n      <td>1-25</td>\n      <td>Yes</td>\n      <td>Yes</td>\n      <td>No</td>\n      <td>...</td>\n      <td>No</td>\n      <td>No</td>\n      <td>Yes</td>\n      <td>Somewhat difficult</td>\n      <td>No</td>\n      <td>Some of them</td>\n      <td>Some of them</td>\n      <td>No</td>\n      <td>Yes</td>\n      <td>No</td>\n    </tr>\n    <tr>\n      <th>22</th>\n      <td>46.0</td>\n      <td>M</td>\n      <td>No</td>\n      <td>No</td>\n      <td>Yes</td>\n      <td>yes</td>\n      <td>26-100</td>\n      <td>Yes</td>\n      <td>Yes</td>\n      <td>Yes</td>\n      <td>...</td>\n      <td>No</td>\n      <td>No</td>\n      <td>Don't know</td>\n      <td>Don't know</td>\n      <td>Maybe</td>\n      <td>Some of them</td>\n      <td>Yes</td>\n      <td>No</td>\n      <td>No</td>\n      <td>No</td>\n    </tr>\n    <tr>\n      <th>23</th>\n      <td>41.0</td>\n      <td>M</td>\n      <td>No</td>\n      <td>No</td>\n      <td>Yes</td>\n      <td>no</td>\n      <td>More than 1000</td>\n      <td>No</td>\n      <td>No</td>\n      <td>Don't know</td>\n      <td>...</td>\n      <td>No</td>\n      <td>Don't know</td>\n      <td>Don't know</td>\n      <td>Don't know</td>\n      <td>Maybe</td>\n      <td>No</td>\n      <td>No</td>\n      <td>No</td>\n      <td>Don't know</td>\n      <td>No</td>\n    </tr>\n  </tbody>\n</table>\n<p>5 rows × 21 columns</p>\n</div>"
          },
          "metadata": {},
          "execution_count": 39
        }
      ]
    },
    {
      "source": [
        "# Hot Encoding"
      ],
      "cell_type": "markdown",
      "metadata": {}
    },
    {
      "cell_type": "code",
      "metadata": {
        "id": "DdSHNSXiTjCu"
      },
      "source": [
        "X = df.drop('work_interfere', axis=1)\n",
        "y = df['work_interfere']"
      ],
      "execution_count": 40,
      "outputs": []
    },
    {
      "cell_type": "code",
      "metadata": {
        "id": "nWzuXRFNVEAa"
      },
      "source": [
        "from encode import encode\n",
        "X = encode(X)\n",
        "X.head()"
      ],
      "execution_count": 41,
      "outputs": [
        {
          "output_type": "execute_result",
          "data": {
            "text/plain": [
              "   Gender_F  Gender_M  Gender_other  Gender_queer  Gender_trans  \\\n",
              "0       0.0       1.0           0.0           0.0           0.0   \n",
              "1       0.0       1.0           0.0           0.0           0.0   \n",
              "2       0.0       1.0           0.0           0.0           0.0   \n",
              "3       0.0       1.0           0.0           0.0           0.0   \n",
              "4       0.0       1.0           0.0           0.0           0.0   \n",
              "\n",
              "   self_employed_No  self_employed_Yes  family_history_No  family_history_Yes  \\\n",
              "0               0.0                1.0                0.0                 1.0   \n",
              "1               1.0                0.0                0.0                 1.0   \n",
              "2               0.0                1.0                1.0                 0.0   \n",
              "3               1.0                0.0                1.0                 0.0   \n",
              "4               1.0                0.0                1.0                 0.0   \n",
              "\n",
              "   treatment_No  ...  supervisor_Yes  mental_health_interview_Maybe  \\\n",
              "0           1.0  ...             1.0                            0.0   \n",
              "1           0.0  ...             0.0                            0.0   \n",
              "2           1.0  ...             0.0                            0.0   \n",
              "3           0.0  ...             1.0                            0.0   \n",
              "4           0.0  ...             0.0                            0.0   \n",
              "\n",
              "   mental_health_interview_No  mental_health_interview_Yes  \\\n",
              "0                         1.0                          0.0   \n",
              "1                         1.0                          0.0   \n",
              "2                         1.0                          0.0   \n",
              "3                         1.0                          0.0   \n",
              "4                         1.0                          0.0   \n",
              "\n",
              "   mental_vs_physical_Don't know  mental_vs_physical_No  \\\n",
              "0                            0.0                    0.0   \n",
              "1                            0.0                    1.0   \n",
              "2                            0.0                    0.0   \n",
              "3                            0.0                    1.0   \n",
              "4                            1.0                    0.0   \n",
              "\n",
              "   mental_vs_physical_Yes  obs_consequence_No  obs_consequence_Yes   Age  \n",
              "0                     1.0                 0.0                  1.0  46.0  \n",
              "1                     0.0                 1.0                  0.0  29.0  \n",
              "2                     1.0                 1.0                  0.0  31.0  \n",
              "3                     0.0                 1.0                  0.0  46.0  \n",
              "4                     0.0                 1.0                  0.0  41.0  \n",
              "\n",
              "[5 rows x 58 columns]"
            ],
            "text/html": "<div>\n<style scoped>\n    .dataframe tbody tr th:only-of-type {\n        vertical-align: middle;\n    }\n\n    .dataframe tbody tr th {\n        vertical-align: top;\n    }\n\n    .dataframe thead th {\n        text-align: right;\n    }\n</style>\n<table border=\"1\" class=\"dataframe\">\n  <thead>\n    <tr style=\"text-align: right;\">\n      <th></th>\n      <th>Gender_F</th>\n      <th>Gender_M</th>\n      <th>Gender_other</th>\n      <th>Gender_queer</th>\n      <th>Gender_trans</th>\n      <th>self_employed_No</th>\n      <th>self_employed_Yes</th>\n      <th>family_history_No</th>\n      <th>family_history_Yes</th>\n      <th>treatment_No</th>\n      <th>...</th>\n      <th>supervisor_Yes</th>\n      <th>mental_health_interview_Maybe</th>\n      <th>mental_health_interview_No</th>\n      <th>mental_health_interview_Yes</th>\n      <th>mental_vs_physical_Don't know</th>\n      <th>mental_vs_physical_No</th>\n      <th>mental_vs_physical_Yes</th>\n      <th>obs_consequence_No</th>\n      <th>obs_consequence_Yes</th>\n      <th>Age</th>\n    </tr>\n  </thead>\n  <tbody>\n    <tr>\n      <th>0</th>\n      <td>0.0</td>\n      <td>1.0</td>\n      <td>0.0</td>\n      <td>0.0</td>\n      <td>0.0</td>\n      <td>0.0</td>\n      <td>1.0</td>\n      <td>0.0</td>\n      <td>1.0</td>\n      <td>1.0</td>\n      <td>...</td>\n      <td>1.0</td>\n      <td>0.0</td>\n      <td>1.0</td>\n      <td>0.0</td>\n      <td>0.0</td>\n      <td>0.0</td>\n      <td>1.0</td>\n      <td>0.0</td>\n      <td>1.0</td>\n      <td>46.0</td>\n    </tr>\n    <tr>\n      <th>1</th>\n      <td>0.0</td>\n      <td>1.0</td>\n      <td>0.0</td>\n      <td>0.0</td>\n      <td>0.0</td>\n      <td>1.0</td>\n      <td>0.0</td>\n      <td>0.0</td>\n      <td>1.0</td>\n      <td>0.0</td>\n      <td>...</td>\n      <td>0.0</td>\n      <td>0.0</td>\n      <td>1.0</td>\n      <td>0.0</td>\n      <td>0.0</td>\n      <td>1.0</td>\n      <td>0.0</td>\n      <td>1.0</td>\n      <td>0.0</td>\n      <td>29.0</td>\n    </tr>\n    <tr>\n      <th>2</th>\n      <td>0.0</td>\n      <td>1.0</td>\n      <td>0.0</td>\n      <td>0.0</td>\n      <td>0.0</td>\n      <td>0.0</td>\n      <td>1.0</td>\n      <td>1.0</td>\n      <td>0.0</td>\n      <td>1.0</td>\n      <td>...</td>\n      <td>0.0</td>\n      <td>0.0</td>\n      <td>1.0</td>\n      <td>0.0</td>\n      <td>0.0</td>\n      <td>0.0</td>\n      <td>1.0</td>\n      <td>1.0</td>\n      <td>0.0</td>\n      <td>31.0</td>\n    </tr>\n    <tr>\n      <th>3</th>\n      <td>0.0</td>\n      <td>1.0</td>\n      <td>0.0</td>\n      <td>0.0</td>\n      <td>0.0</td>\n      <td>1.0</td>\n      <td>0.0</td>\n      <td>1.0</td>\n      <td>0.0</td>\n      <td>0.0</td>\n      <td>...</td>\n      <td>1.0</td>\n      <td>0.0</td>\n      <td>1.0</td>\n      <td>0.0</td>\n      <td>0.0</td>\n      <td>1.0</td>\n      <td>0.0</td>\n      <td>1.0</td>\n      <td>0.0</td>\n      <td>46.0</td>\n    </tr>\n    <tr>\n      <th>4</th>\n      <td>0.0</td>\n      <td>1.0</td>\n      <td>0.0</td>\n      <td>0.0</td>\n      <td>0.0</td>\n      <td>1.0</td>\n      <td>0.0</td>\n      <td>1.0</td>\n      <td>0.0</td>\n      <td>0.0</td>\n      <td>...</td>\n      <td>0.0</td>\n      <td>0.0</td>\n      <td>1.0</td>\n      <td>0.0</td>\n      <td>1.0</td>\n      <td>0.0</td>\n      <td>0.0</td>\n      <td>1.0</td>\n      <td>0.0</td>\n      <td>41.0</td>\n    </tr>\n  </tbody>\n</table>\n<p>5 rows × 58 columns</p>\n</div>"
          },
          "metadata": {},
          "execution_count": 41
        }
      ]
    },
    {
      "source": [
        "# Finding Corelation"
      ],
      "cell_type": "markdown",
      "metadata": {}
    },
    {
      "cell_type": "code",
      "execution_count": 55,
      "metadata": {},
      "outputs": [
        {
          "output_type": "execute_result",
          "data": {
            "text/plain": [
              "work_interfere                     1.000000\n",
              "treatment_Yes                      0.392986\n",
              "family_history_Yes                 0.226243\n",
              "mental_vs_physical_No              0.133714\n",
              "leave_Very difficult               0.128897\n",
              "obs_consequence_Yes                0.121612\n",
              "seek_help_No                       0.117515\n",
              "mental_health_consequence_Yes      0.117119\n",
              "wellness_program_No                0.081177\n",
              "leave_Somewhat difficult           0.071577\n",
              "care_options_Yes                   0.067548\n",
              "benefits_No                        0.061102\n",
              "Gender_F                           0.059227\n",
              "self_employed_Yes                  0.058128\n",
              "mental_health_interview_No         0.055182\n",
              "Gender_other                       0.054424\n",
              "anonymity_Yes                      0.047343\n",
              "no_employees_1-25                  0.040329\n",
              "remote_work_Yes                    0.036492\n",
              "coworkers_Some of them             0.033233\n",
              "no_employees_26-100                0.032192\n",
              "supervisor_Some of them            0.031141\n",
              "supervisor_No                      0.029468\n",
              "anonymity_No                       0.026107\n",
              "Gender_trans                       0.017896\n",
              "mental_health_interview_Yes        0.015924\n",
              "mental_health_consequence_Maybe    0.013349\n",
              "tech_company_Yes                   0.007159\n",
              "Gender_queer                       0.002030\n",
              "leave_Somewhat easy                0.000173\n",
              "tech_company_No                   -0.007159\n",
              "coworkers_Yes                     -0.016685\n",
              "no_employees_More than 1000       -0.020676\n",
              "benefits_Yes                      -0.021541\n",
              "care_options_No                   -0.024099\n",
              "coworkers_No                      -0.024188\n",
              "wellness_program_Yes              -0.025010\n",
              "no_employees_100-500              -0.025040\n",
              "leave_Very easy                   -0.027572\n",
              "mental_vs_physical_Yes            -0.032891\n",
              "remote_work_No                    -0.036492\n",
              "benefits_Don't know               -0.038101\n",
              "Age                               -0.042468\n",
              "seek_help_Yes                     -0.043843\n",
              "care_options_Not sure             -0.050829\n",
              "supervisor_Yes                    -0.057489\n",
              "anonymity_Don't know              -0.057836\n",
              "self_employed_No                  -0.058128\n",
              "mental_health_interview_Maybe     -0.067818\n",
              "Gender_M                          -0.072656\n",
              "no_employees_500-1000             -0.075928\n",
              "wellness_program_Don't know       -0.082997\n",
              "seek_help_Don't know              -0.091436\n",
              "mental_vs_physical_Don't know     -0.092577\n",
              "leave_Don't know                  -0.100592\n",
              "obs_consequence_No                -0.121612\n",
              "mental_health_consequence_No      -0.121778\n",
              "family_history_No                 -0.226243\n",
              "treatment_No                      -0.392986\n",
              "Name: work_interfere, dtype: float64"
            ]
          },
          "metadata": {},
          "execution_count": 55
        }
      ],
      "source": [
        "dup_df = df.copy(deep=True)\n",
        "dup_df[\"work_interfere\"] = dup_df[\"work_interfere\"].replace([\"yes\"], 1)\n",
        "dup_df[\"work_interfere\"] = dup_df[\"work_interfere\"].replace([\"no\"], 0)\n",
        "corr_matrix = encode(dup_df)\n",
        "corr_matrix = corr_matrix.corr()\n",
        "corr_result = corr_matrix[\"work_interfere\"]\n",
        "corr_result.sort_values(axis=0, ascending=False)"
      ]
    },
    {
      "cell_type": "markdown",
      "metadata": {
        "id": "Cyd5avh7Wfbs"
      },
      "source": [
        "# Random Forest Classifier"
      ]
    },
    {
      "cell_type": "code",
      "metadata": {
        "id": "weXSpXqHTwAk"
      },
      "source": [
        "from sklearn.model_selection import train_test_split\n",
        "\n",
        "X_train, X_test, y_train, y_test = train_test_split(X, y, random_state=1000, test_size=0.2)"
      ],
      "execution_count": 50,
      "outputs": []
    },
    {
      "cell_type": "code",
      "metadata": {
        "id": "SC0U9YQUUKUJ"
      },
      "source": [
        "from sklearn.ensemble import RandomForestClassifier\n",
        "forest = RandomForestClassifier(n_estimators=100, random_state=28, max_depth=5)\n",
        "\n",
        "forest_model= forest.fit(X_train, y_train)"
      ],
      "execution_count": 51,
      "outputs": []
    },
    {
      "cell_type": "code",
      "metadata": {
        "colab": {
          "base_uri": "https://localhost:8080/"
        },
        "id": "UzLjXfwQUmDU",
        "outputId": "d070d9c5-01ee-474b-86ea-3158d1b578e1"
      },
      "source": [
        "print(forest_model.score(X_test, y_test).round(2) * 100, \"%\")"
      ],
      "execution_count": 52,
      "outputs": [
        {
          "output_type": "stream",
          "name": "stdout",
          "text": [
            "74.0 %\n"
          ]
        }
      ]
    },
    {
      "cell_type": "code",
      "metadata": {
        "id": "f0zRzl4qVeAK"
      },
      "source": [
        "# df_features = pd.DataFrame(X_train.columns)\n",
        "# df_features['feature_importances'] = forest_model.feature_importances_\n",
        "# df_features.columns = ['features', 'feature_importances']\n",
        "\n",
        "# df_features = df_features.sort_values(by='feature_importances', ascending=False)\n",
        "\n",
        "# df_features.sort_values('features')\n",
        "# df_features.reset_index(drop='first', inplace=True)"
      ],
      "execution_count": 29,
      "outputs": []
    },
    {
      "source": [
        "# Logistic Regression"
      ],
      "cell_type": "markdown",
      "metadata": {}
    },
    {
      "cell_type": "code",
      "execution_count": 30,
      "metadata": {},
      "outputs": [],
      "source": [
        "from sklearn.linear_model import LogisticRegression\n",
        "logistic_regression = LogisticRegression(max_iter=1000)\n",
        "logistic_regression_model = logistic_regression.fit(X_train, y_train)"
      ]
    },
    {
      "cell_type": "code",
      "execution_count": 31,
      "metadata": {},
      "outputs": [
        {
          "output_type": "stream",
          "name": "stdout",
          "text": [
            "69.0 %\n"
          ]
        }
      ],
      "source": [
        "print(logistic_regression_model.score(X_test, y_test).round(2) * 100, \"%\")"
      ]
    }
  ]
}