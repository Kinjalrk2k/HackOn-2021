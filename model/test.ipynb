{
 "metadata": {
  "language_info": {
   "codemirror_mode": {
    "name": "ipython",
    "version": 3
   },
   "file_extension": ".py",
   "mimetype": "text/x-python",
   "name": "python",
   "nbconvert_exporter": "python",
   "pygments_lexer": "ipython3",
   "version": "3.7.6"
  },
  "orig_nbformat": 2,
  "kernelspec": {
   "name": "python3",
   "display_name": "Python 3.7.6 64-bit ('base': conda)",
   "metadata": {
    "interpreter": {
     "hash": "b3ba2566441a7c06988d0923437866b63cedc61552a5af99d1f4fb67d367b25f"
    }
   }
  }
 },
 "nbformat": 4,
 "nbformat_minor": 2,
 "cells": [
  {
   "cell_type": "code",
   "execution_count": 1,
   "metadata": {},
   "outputs": [],
   "source": [
    "import pickle\n",
    "import pandas as pd\n",
    "import numpy as np\n",
    "\n",
    "\n",
    "from constants import COLUMNS\n",
    "from encode import encode\n",
    "from clean import clean"
   ]
  },
  {
   "cell_type": "code",
   "execution_count": 2,
   "metadata": {},
   "outputs": [
    {
     "output_type": "execute_result",
     "data": {
      "text/plain": [
       "          Timestamp  Age Gender        Country state self_employed  \\\n",
       "0  27-08-2014 11:33   36   Male  United States    CT           NaN   \n",
       "1  27-08-2014 11:43   34   Male  United States    TN            No   \n",
       "2  27-08-2014 11:50   35   male         Canada   NaN            No   \n",
       "\n",
       "  family_history treatment no_employees remote_work  \\\n",
       "0            Yes        No     500-1000          No   \n",
       "1             No        No     500-1000          No   \n",
       "2             No        No       26-100          No   \n",
       "\n",
       "                         ...                                  leave  \\\n",
       "0                        ...                             Don't know   \n",
       "1                        ...                             Don't know   \n",
       "2                        ...                          Somewhat easy   \n",
       "\n",
       "  mental_health_consequence phys_health_consequence     coworkers supervisor  \\\n",
       "0                        No                      No           Yes        Yes   \n",
       "1                        No                      No           Yes        Yes   \n",
       "2                        No                      No  Some of them        Yes   \n",
       "\n",
       "  mental_health_interview phys_health_interview mental_vs_physical  \\\n",
       "0                      No                    No         Don't know   \n",
       "1                   Maybe                   Yes         Don't know   \n",
       "2                      No                 Maybe         Don't know   \n",
       "\n",
       "  obs_consequence                                           comments  \n",
       "0              No  I'm not on my company's health insurance which...  \n",
       "1              No                                                NaN  \n",
       "2              No                                                NaN  \n",
       "\n",
       "[3 rows x 26 columns]"
      ],
      "text/html": "<div>\n<style scoped>\n    .dataframe tbody tr th:only-of-type {\n        vertical-align: middle;\n    }\n\n    .dataframe tbody tr th {\n        vertical-align: top;\n    }\n\n    .dataframe thead th {\n        text-align: right;\n    }\n</style>\n<table border=\"1\" class=\"dataframe\">\n  <thead>\n    <tr style=\"text-align: right;\">\n      <th></th>\n      <th>Timestamp</th>\n      <th>Age</th>\n      <th>Gender</th>\n      <th>Country</th>\n      <th>state</th>\n      <th>self_employed</th>\n      <th>family_history</th>\n      <th>treatment</th>\n      <th>no_employees</th>\n      <th>remote_work</th>\n      <th>...</th>\n      <th>leave</th>\n      <th>mental_health_consequence</th>\n      <th>phys_health_consequence</th>\n      <th>coworkers</th>\n      <th>supervisor</th>\n      <th>mental_health_interview</th>\n      <th>phys_health_interview</th>\n      <th>mental_vs_physical</th>\n      <th>obs_consequence</th>\n      <th>comments</th>\n    </tr>\n  </thead>\n  <tbody>\n    <tr>\n      <th>0</th>\n      <td>27-08-2014 11:33</td>\n      <td>36</td>\n      <td>Male</td>\n      <td>United States</td>\n      <td>CT</td>\n      <td>NaN</td>\n      <td>Yes</td>\n      <td>No</td>\n      <td>500-1000</td>\n      <td>No</td>\n      <td>...</td>\n      <td>Don't know</td>\n      <td>No</td>\n      <td>No</td>\n      <td>Yes</td>\n      <td>Yes</td>\n      <td>No</td>\n      <td>No</td>\n      <td>Don't know</td>\n      <td>No</td>\n      <td>I'm not on my company's health insurance which...</td>\n    </tr>\n    <tr>\n      <th>1</th>\n      <td>27-08-2014 11:43</td>\n      <td>34</td>\n      <td>Male</td>\n      <td>United States</td>\n      <td>TN</td>\n      <td>No</td>\n      <td>No</td>\n      <td>No</td>\n      <td>500-1000</td>\n      <td>No</td>\n      <td>...</td>\n      <td>Don't know</td>\n      <td>No</td>\n      <td>No</td>\n      <td>Yes</td>\n      <td>Yes</td>\n      <td>Maybe</td>\n      <td>Yes</td>\n      <td>Don't know</td>\n      <td>No</td>\n      <td>NaN</td>\n    </tr>\n    <tr>\n      <th>2</th>\n      <td>27-08-2014 11:50</td>\n      <td>35</td>\n      <td>male</td>\n      <td>Canada</td>\n      <td>NaN</td>\n      <td>No</td>\n      <td>No</td>\n      <td>No</td>\n      <td>26-100</td>\n      <td>No</td>\n      <td>...</td>\n      <td>Somewhat easy</td>\n      <td>No</td>\n      <td>No</td>\n      <td>Some of them</td>\n      <td>Yes</td>\n      <td>No</td>\n      <td>Maybe</td>\n      <td>Don't know</td>\n      <td>No</td>\n      <td>NaN</td>\n    </tr>\n  </tbody>\n</table>\n<p>3 rows × 26 columns</p>\n</div>"
     },
     "metadata": {},
     "execution_count": 2
    }
   ],
   "source": [
    "df = pd.read_csv(\"input.csv\")\n",
    "df.head()"
   ]
  },
  {
   "cell_type": "code",
   "execution_count": 3,
   "metadata": {},
   "outputs": [
    {
     "output_type": "execute_result",
     "data": {
      "text/plain": [
       "   Age Gender self_employed family_history treatment no_employees remote_work  \\\n",
       "1   34      M            No             No        No     500-1000          No   \n",
       "2   35      M            No             No        No       26-100          No   \n",
       "\n",
       "  tech_company    benefits care_options wellness_program seek_help  \\\n",
       "1          Yes          No           No               No        No   \n",
       "2          Yes  Don't know           No               No        No   \n",
       "\n",
       "    anonymity          leave mental_health_consequence     coworkers  \\\n",
       "1  Don't know     Don't know                        No           Yes   \n",
       "2  Don't know  Somewhat easy                        No  Some of them   \n",
       "\n",
       "  supervisor mental_health_interview mental_vs_physical obs_consequence  \n",
       "1        Yes                   Maybe         Don't know              No  \n",
       "2        Yes                      No         Don't know              No  "
      ],
      "text/html": "<div>\n<style scoped>\n    .dataframe tbody tr th:only-of-type {\n        vertical-align: middle;\n    }\n\n    .dataframe tbody tr th {\n        vertical-align: top;\n    }\n\n    .dataframe thead th {\n        text-align: right;\n    }\n</style>\n<table border=\"1\" class=\"dataframe\">\n  <thead>\n    <tr style=\"text-align: right;\">\n      <th></th>\n      <th>Age</th>\n      <th>Gender</th>\n      <th>self_employed</th>\n      <th>family_history</th>\n      <th>treatment</th>\n      <th>no_employees</th>\n      <th>remote_work</th>\n      <th>tech_company</th>\n      <th>benefits</th>\n      <th>care_options</th>\n      <th>wellness_program</th>\n      <th>seek_help</th>\n      <th>anonymity</th>\n      <th>leave</th>\n      <th>mental_health_consequence</th>\n      <th>coworkers</th>\n      <th>supervisor</th>\n      <th>mental_health_interview</th>\n      <th>mental_vs_physical</th>\n      <th>obs_consequence</th>\n    </tr>\n  </thead>\n  <tbody>\n    <tr>\n      <th>1</th>\n      <td>34</td>\n      <td>M</td>\n      <td>No</td>\n      <td>No</td>\n      <td>No</td>\n      <td>500-1000</td>\n      <td>No</td>\n      <td>Yes</td>\n      <td>No</td>\n      <td>No</td>\n      <td>No</td>\n      <td>No</td>\n      <td>Don't know</td>\n      <td>Don't know</td>\n      <td>No</td>\n      <td>Yes</td>\n      <td>Yes</td>\n      <td>Maybe</td>\n      <td>Don't know</td>\n      <td>No</td>\n    </tr>\n    <tr>\n      <th>2</th>\n      <td>35</td>\n      <td>M</td>\n      <td>No</td>\n      <td>No</td>\n      <td>No</td>\n      <td>26-100</td>\n      <td>No</td>\n      <td>Yes</td>\n      <td>Don't know</td>\n      <td>No</td>\n      <td>No</td>\n      <td>No</td>\n      <td>Don't know</td>\n      <td>Somewhat easy</td>\n      <td>No</td>\n      <td>Some of them</td>\n      <td>Yes</td>\n      <td>No</td>\n      <td>Don't know</td>\n      <td>No</td>\n    </tr>\n  </tbody>\n</table>\n</div>"
     },
     "metadata": {},
     "execution_count": 3
    }
   ],
   "source": [
    "cleaned = clean(df)\n",
    "cleaned.head()"
   ]
  },
  {
   "cell_type": "code",
   "execution_count": 4,
   "metadata": {},
   "outputs": [
    {
     "output_type": "execute_result",
     "data": {
      "text/plain": [
       "   Gender_M  self_employed_No  family_history_No  treatment_No  \\\n",
       "0       1.0               1.0                1.0           1.0   \n",
       "1       1.0               1.0                1.0           1.0   \n",
       "\n",
       "   no_employees_26-100  no_employees_500-1000  remote_work_No  \\\n",
       "0                  0.0                    1.0             1.0   \n",
       "1                  1.0                    0.0             1.0   \n",
       "\n",
       "   tech_company_Yes  benefits_Don't know  benefits_No ...   \\\n",
       "0               1.0                  0.0          1.0 ...    \n",
       "1               1.0                  1.0          0.0 ...    \n",
       "\n",
       "   leave_Somewhat easy  mental_health_consequence_No  coworkers_Some of them  \\\n",
       "0                  0.0                           1.0                     0.0   \n",
       "1                  1.0                           1.0                     1.0   \n",
       "\n",
       "   coworkers_Yes  supervisor_Yes  mental_health_interview_Maybe  \\\n",
       "0            1.0             1.0                            1.0   \n",
       "1            0.0             1.0                            0.0   \n",
       "\n",
       "   mental_health_interview_No  mental_vs_physical_Don't know  \\\n",
       "0                         0.0                            1.0   \n",
       "1                         1.0                            1.0   \n",
       "\n",
       "   obs_consequence_No  Age  \n",
       "0                 1.0   34  \n",
       "1                 1.0   35  \n",
       "\n",
       "[2 rows x 25 columns]"
      ],
      "text/html": "<div>\n<style scoped>\n    .dataframe tbody tr th:only-of-type {\n        vertical-align: middle;\n    }\n\n    .dataframe tbody tr th {\n        vertical-align: top;\n    }\n\n    .dataframe thead th {\n        text-align: right;\n    }\n</style>\n<table border=\"1\" class=\"dataframe\">\n  <thead>\n    <tr style=\"text-align: right;\">\n      <th></th>\n      <th>Gender_M</th>\n      <th>self_employed_No</th>\n      <th>family_history_No</th>\n      <th>treatment_No</th>\n      <th>no_employees_26-100</th>\n      <th>no_employees_500-1000</th>\n      <th>remote_work_No</th>\n      <th>tech_company_Yes</th>\n      <th>benefits_Don't know</th>\n      <th>benefits_No</th>\n      <th>...</th>\n      <th>leave_Somewhat easy</th>\n      <th>mental_health_consequence_No</th>\n      <th>coworkers_Some of them</th>\n      <th>coworkers_Yes</th>\n      <th>supervisor_Yes</th>\n      <th>mental_health_interview_Maybe</th>\n      <th>mental_health_interview_No</th>\n      <th>mental_vs_physical_Don't know</th>\n      <th>obs_consequence_No</th>\n      <th>Age</th>\n    </tr>\n  </thead>\n  <tbody>\n    <tr>\n      <th>0</th>\n      <td>1.0</td>\n      <td>1.0</td>\n      <td>1.0</td>\n      <td>1.0</td>\n      <td>0.0</td>\n      <td>1.0</td>\n      <td>1.0</td>\n      <td>1.0</td>\n      <td>0.0</td>\n      <td>1.0</td>\n      <td>...</td>\n      <td>0.0</td>\n      <td>1.0</td>\n      <td>0.0</td>\n      <td>1.0</td>\n      <td>1.0</td>\n      <td>1.0</td>\n      <td>0.0</td>\n      <td>1.0</td>\n      <td>1.0</td>\n      <td>34</td>\n    </tr>\n    <tr>\n      <th>1</th>\n      <td>1.0</td>\n      <td>1.0</td>\n      <td>1.0</td>\n      <td>1.0</td>\n      <td>1.0</td>\n      <td>0.0</td>\n      <td>1.0</td>\n      <td>1.0</td>\n      <td>1.0</td>\n      <td>0.0</td>\n      <td>...</td>\n      <td>1.0</td>\n      <td>1.0</td>\n      <td>1.0</td>\n      <td>0.0</td>\n      <td>1.0</td>\n      <td>0.0</td>\n      <td>1.0</td>\n      <td>1.0</td>\n      <td>1.0</td>\n      <td>35</td>\n    </tr>\n  </tbody>\n</table>\n<p>2 rows × 25 columns</p>\n</div>"
     },
     "metadata": {},
     "execution_count": 4
    }
   ],
   "source": [
    "encoded = encode(cleaned)\n",
    "encoded.head()"
   ]
  },
  {
   "cell_type": "code",
   "execution_count": 5,
   "metadata": {},
   "outputs": [
    {
     "output_type": "execute_result",
     "data": {
      "text/plain": [
       "Empty DataFrame\n",
       "Columns: [Gender_F, Gender_M, Gender_other, Gender_queer, Gender_trans, self_employed_No, self_employed_Yes, family_history_No, family_history_Yes, treatment_No, treatment_Yes, no_employees_1-25, no_employees_100-500, no_employees_26-100, no_employees_500-1000, no_employees_More than 1000, remote_work_No, remote_work_Yes, tech_company_No, tech_company_Yes, benefits_Don't know, benefits_No, benefits_Yes, care_options_No, care_options_Not sure, care_options_Yes, wellness_program_Don't know, wellness_program_No, wellness_program_Yes, seek_help_Don't know, seek_help_No, seek_help_Yes, anonymity_Don't know, anonymity_No, anonymity_Yes, leave_Don't know, leave_Somewhat difficult, leave_Somewhat easy, leave_Very difficult, leave_Very easy, mental_health_consequence_Maybe, mental_health_consequence_No, mental_health_consequence_Yes, coworkers_No, coworkers_Some of them, coworkers_Yes, supervisor_No, supervisor_Some of them, supervisor_Yes, mental_health_interview_Maybe, mental_health_interview_No, mental_health_interview_Yes, mental_vs_physical_Don't know, mental_vs_physical_No, mental_vs_physical_Yes, obs_consequence_No, obs_consequence_Yes, Age]\n",
       "Index: []\n",
       "\n",
       "[0 rows x 58 columns]"
      ],
      "text/html": "<div>\n<style scoped>\n    .dataframe tbody tr th:only-of-type {\n        vertical-align: middle;\n    }\n\n    .dataframe tbody tr th {\n        vertical-align: top;\n    }\n\n    .dataframe thead th {\n        text-align: right;\n    }\n</style>\n<table border=\"1\" class=\"dataframe\">\n  <thead>\n    <tr style=\"text-align: right;\">\n      <th></th>\n      <th>Gender_F</th>\n      <th>Gender_M</th>\n      <th>Gender_other</th>\n      <th>Gender_queer</th>\n      <th>Gender_trans</th>\n      <th>self_employed_No</th>\n      <th>self_employed_Yes</th>\n      <th>family_history_No</th>\n      <th>family_history_Yes</th>\n      <th>treatment_No</th>\n      <th>...</th>\n      <th>supervisor_Yes</th>\n      <th>mental_health_interview_Maybe</th>\n      <th>mental_health_interview_No</th>\n      <th>mental_health_interview_Yes</th>\n      <th>mental_vs_physical_Don't know</th>\n      <th>mental_vs_physical_No</th>\n      <th>mental_vs_physical_Yes</th>\n      <th>obs_consequence_No</th>\n      <th>obs_consequence_Yes</th>\n      <th>Age</th>\n    </tr>\n  </thead>\n  <tbody>\n  </tbody>\n</table>\n<p>0 rows × 58 columns</p>\n</div>"
     },
     "metadata": {},
     "execution_count": 5
    }
   ],
   "source": [
    "final_df = pd.DataFrame([], columns=COLUMNS)\n",
    "final_df.head()"
   ]
  },
  {
   "cell_type": "code",
   "execution_count": 6,
   "metadata": {},
   "outputs": [
    {
     "output_type": "stream",
     "name": "stdout",
     "text": [
      "58 25\n",
      "\n",
      "['Age', 'Gender_F', 'Gender_M', 'Gender_other', 'Gender_queer', 'Gender_trans', \"anonymity_Don't know\", 'anonymity_No', 'anonymity_Yes', \"benefits_Don't know\", 'benefits_No', 'benefits_Yes', 'care_options_No', 'care_options_Not sure', 'care_options_Yes', 'coworkers_No', 'coworkers_Some of them', 'coworkers_Yes', 'family_history_No', 'family_history_Yes', \"leave_Don't know\", 'leave_Somewhat difficult', 'leave_Somewhat easy', 'leave_Very difficult', 'leave_Very easy', 'mental_health_consequence_Maybe', 'mental_health_consequence_No', 'mental_health_consequence_Yes', 'mental_health_interview_Maybe', 'mental_health_interview_No', 'mental_health_interview_Yes', \"mental_vs_physical_Don't know\", 'mental_vs_physical_No', 'mental_vs_physical_Yes', 'no_employees_1-25', 'no_employees_100-500', 'no_employees_26-100', 'no_employees_500-1000', 'no_employees_More than 1000', 'obs_consequence_No', 'obs_consequence_Yes', 'remote_work_No', 'remote_work_Yes', \"seek_help_Don't know\", 'seek_help_No', 'seek_help_Yes', 'self_employed_No', 'self_employed_Yes', 'supervisor_No', 'supervisor_Some of them', 'supervisor_Yes', 'tech_company_No', 'tech_company_Yes', 'treatment_No', 'treatment_Yes', \"wellness_program_Don't know\", 'wellness_program_No', 'wellness_program_Yes']\n",
      "\n",
      "['Age', 'Gender_M', \"anonymity_Don't know\", \"benefits_Don't know\", 'benefits_No', 'care_options_No', 'coworkers_Some of them', 'coworkers_Yes', 'family_history_No', \"leave_Don't know\", 'leave_Somewhat easy', 'mental_health_consequence_No', 'mental_health_interview_Maybe', 'mental_health_interview_No', \"mental_vs_physical_Don't know\", 'no_employees_26-100', 'no_employees_500-1000', 'obs_consequence_No', 'remote_work_No', 'seek_help_No', 'self_employed_No', 'supervisor_Yes', 'tech_company_Yes', 'treatment_No', 'wellness_program_No']\n",
      "C:\\ProgramData\\Anaconda3\\lib\\site-packages\\ipykernel_launcher.py:10: FutureWarning: Sorting because non-concatenation axis is not aligned. A future version\n",
      "of pandas will change to not sort by default.\n",
      "\n",
      "To accept the future behavior, pass 'sort=False'.\n",
      "\n",
      "To retain the current behavior and silence the warning, pass 'sort=True'.\n",
      "\n",
      "  # Remove the CWD from sys.path while we load stuff.\n"
     ]
    },
    {
     "output_type": "execute_result",
     "data": {
      "text/plain": [
       "['Age',\n",
       " 'Gender_F',\n",
       " 'Gender_M',\n",
       " 'Gender_other',\n",
       " 'Gender_queer',\n",
       " 'Gender_trans',\n",
       " \"anonymity_Don't know\",\n",
       " 'anonymity_No',\n",
       " 'anonymity_Yes',\n",
       " \"benefits_Don't know\",\n",
       " 'benefits_No',\n",
       " 'benefits_Yes',\n",
       " 'care_options_No',\n",
       " 'care_options_Not sure',\n",
       " 'care_options_Yes',\n",
       " 'coworkers_No',\n",
       " 'coworkers_Some of them',\n",
       " 'coworkers_Yes',\n",
       " 'family_history_No',\n",
       " 'family_history_Yes',\n",
       " \"leave_Don't know\",\n",
       " 'leave_Somewhat difficult',\n",
       " 'leave_Somewhat easy',\n",
       " 'leave_Very difficult',\n",
       " 'leave_Very easy',\n",
       " 'mental_health_consequence_Maybe',\n",
       " 'mental_health_consequence_No',\n",
       " 'mental_health_consequence_Yes',\n",
       " 'mental_health_interview_Maybe',\n",
       " 'mental_health_interview_No',\n",
       " 'mental_health_interview_Yes',\n",
       " \"mental_vs_physical_Don't know\",\n",
       " 'mental_vs_physical_No',\n",
       " 'mental_vs_physical_Yes',\n",
       " 'no_employees_1-25',\n",
       " 'no_employees_100-500',\n",
       " 'no_employees_26-100',\n",
       " 'no_employees_500-1000',\n",
       " 'no_employees_More than 1000',\n",
       " 'obs_consequence_No',\n",
       " 'obs_consequence_Yes',\n",
       " 'remote_work_No',\n",
       " 'remote_work_Yes',\n",
       " \"seek_help_Don't know\",\n",
       " 'seek_help_No',\n",
       " 'seek_help_Yes',\n",
       " 'self_employed_No',\n",
       " 'self_employed_Yes',\n",
       " 'supervisor_No',\n",
       " 'supervisor_Some of them',\n",
       " 'supervisor_Yes',\n",
       " 'tech_company_No',\n",
       " 'tech_company_Yes',\n",
       " 'treatment_No',\n",
       " 'treatment_Yes',\n",
       " \"wellness_program_Don't know\",\n",
       " 'wellness_program_No',\n",
       " 'wellness_program_Yes']"
      ]
     },
     "metadata": {},
     "execution_count": 6
    }
   ],
   "source": [
    "i  = list(final_df.columns)\r\n",
    "j = list(encoded.columns)\r\n",
    "\r\n",
    "print(len(i), len(j))\r\n",
    "print()\r\n",
    "print(sorted(i))\r\n",
    "print()\r\n",
    "print(sorted(j))\r\n",
    "\r\n",
    "concated_df = pd.concat([final_df, encoded], sort=True)\r\n",
    "concated_df = concated_df.replace(np.nan, 0)\r\n",
    "# final_df\r\n",
    "\r\n",
    "list(concated_df.columns)\r\n"
   ]
  },
  {
   "cell_type": "code",
   "execution_count": 8,
   "metadata": {},
   "outputs": [
    {
     "output_type": "stream",
     "name": "stdout",
     "text": [
      "['yes' 'yes']\n"
     ]
    }
   ],
   "source": [
    "filename = 'model.sav'\n",
    "model = pickle.load(open(filename, 'rb'))\n",
    "\n",
    "output = model.predict(concated_df)\n",
    "print(output)"
   ]
  }
 ]
}