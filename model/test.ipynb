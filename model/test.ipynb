{
 "metadata": {
  "language_info": {
   "codemirror_mode": {
    "name": "ipython",
    "version": 3
   },
   "file_extension": ".py",
   "mimetype": "text/x-python",
   "name": "python",
   "nbconvert_exporter": "python",
   "pygments_lexer": "ipython3",
   "version": "3.7.6"
  },
  "orig_nbformat": 2,
  "kernelspec": {
   "name": "python3",
   "display_name": "Python 3.7.6 64-bit ('base': conda)",
   "metadata": {
    "interpreter": {
     "hash": "b3ba2566441a7c06988d0923437866b63cedc61552a5af99d1f4fb67d367b25f"
    }
   }
  }
 },
 "nbformat": 4,
 "nbformat_minor": 2,
 "cells": [
  {
   "cell_type": "code",
   "execution_count": 1,
   "metadata": {},
   "outputs": [],
   "source": [
    "import pickle\n",
    "import pandas as pd\n",
    "\n",
    "\n",
    "from constants import COLUMNS\n",
    "from encode import encode\n",
    "from clean import clean"
   ]
  },
  {
   "cell_type": "code",
   "execution_count": 2,
   "metadata": {},
   "outputs": [
    {
     "output_type": "execute_result",
     "data": {
      "text/plain": [
       "   Age Gender self_employed family_history treatment no_employees remote_work  \\\n",
       "0   21      M            No             No        No         1-25         Yes   \n",
       "1   21      M           Yes             No        No         1-25         Yes   \n",
       "2   21      M            No             No        No       26-100         Yes   \n",
       "\n",
       "  tech_company    benefits care_options wellness_program   seek_help  \\\n",
       "0          Yes          No           No              Yes          No   \n",
       "1          Yes  Don't know           No       Don't know  Don't know   \n",
       "2          Yes          No           No               No  Don't know   \n",
       "\n",
       "    anonymity          leave mental_health_consequence     coworkers  \\\n",
       "0  Don't know  Somewhat easy                     Maybe  Some of them   \n",
       "1  Don't know     Don't know                       Yes            No   \n",
       "2  Don't know     Don't know                        No           Yes   \n",
       "\n",
       "  supervisor mental_health_interview mental_vs_physical obs_consequence  \n",
       "0        Yes                      No                Yes              No  \n",
       "1         No                      No         Don't know              No  \n",
       "2        Yes                     Yes                 No              No  "
      ],
      "text/html": "<div>\n<style scoped>\n    .dataframe tbody tr th:only-of-type {\n        vertical-align: middle;\n    }\n\n    .dataframe tbody tr th {\n        vertical-align: top;\n    }\n\n    .dataframe thead th {\n        text-align: right;\n    }\n</style>\n<table border=\"1\" class=\"dataframe\">\n  <thead>\n    <tr style=\"text-align: right;\">\n      <th></th>\n      <th>Age</th>\n      <th>Gender</th>\n      <th>self_employed</th>\n      <th>family_history</th>\n      <th>treatment</th>\n      <th>no_employees</th>\n      <th>remote_work</th>\n      <th>tech_company</th>\n      <th>benefits</th>\n      <th>care_options</th>\n      <th>wellness_program</th>\n      <th>seek_help</th>\n      <th>anonymity</th>\n      <th>leave</th>\n      <th>mental_health_consequence</th>\n      <th>coworkers</th>\n      <th>supervisor</th>\n      <th>mental_health_interview</th>\n      <th>mental_vs_physical</th>\n      <th>obs_consequence</th>\n    </tr>\n  </thead>\n  <tbody>\n    <tr>\n      <th>0</th>\n      <td>21</td>\n      <td>M</td>\n      <td>No</td>\n      <td>No</td>\n      <td>No</td>\n      <td>1-25</td>\n      <td>Yes</td>\n      <td>Yes</td>\n      <td>No</td>\n      <td>No</td>\n      <td>Yes</td>\n      <td>No</td>\n      <td>Don't know</td>\n      <td>Somewhat easy</td>\n      <td>Maybe</td>\n      <td>Some of them</td>\n      <td>Yes</td>\n      <td>No</td>\n      <td>Yes</td>\n      <td>No</td>\n    </tr>\n    <tr>\n      <th>1</th>\n      <td>21</td>\n      <td>M</td>\n      <td>Yes</td>\n      <td>No</td>\n      <td>No</td>\n      <td>1-25</td>\n      <td>Yes</td>\n      <td>Yes</td>\n      <td>Don't know</td>\n      <td>No</td>\n      <td>Don't know</td>\n      <td>Don't know</td>\n      <td>Don't know</td>\n      <td>Don't know</td>\n      <td>Yes</td>\n      <td>No</td>\n      <td>No</td>\n      <td>No</td>\n      <td>Don't know</td>\n      <td>No</td>\n    </tr>\n    <tr>\n      <th>2</th>\n      <td>21</td>\n      <td>M</td>\n      <td>No</td>\n      <td>No</td>\n      <td>No</td>\n      <td>26-100</td>\n      <td>Yes</td>\n      <td>Yes</td>\n      <td>No</td>\n      <td>No</td>\n      <td>No</td>\n      <td>Don't know</td>\n      <td>Don't know</td>\n      <td>Don't know</td>\n      <td>No</td>\n      <td>Yes</td>\n      <td>Yes</td>\n      <td>Yes</td>\n      <td>No</td>\n      <td>No</td>\n    </tr>\n  </tbody>\n</table>\n</div>"
     },
     "metadata": {},
     "execution_count": 2
    }
   ],
   "source": [
    "df = pd.read_csv(\"input.csv\")\n",
    "# df.head()\n",
    "\n",
    "cleaned = clean(df)\n",
    "cleaned.head()\n"
   ]
  },
  {
   "cell_type": "code",
   "execution_count": 3,
   "metadata": {},
   "outputs": [
    {
     "output_type": "execute_result",
     "data": {
      "text/plain": [
       "   Gender_M  self_employed_No  self_employed_Yes  family_history_No  \\\n",
       "0       1.0               1.0                0.0                1.0   \n",
       "1       1.0               0.0                1.0                1.0   \n",
       "2       1.0               1.0                0.0                1.0   \n",
       "\n",
       "   treatment_No  no_employees_1-25  no_employees_26-100  remote_work_Yes  \\\n",
       "0           1.0                1.0                  0.0              1.0   \n",
       "1           1.0                1.0                  0.0              1.0   \n",
       "2           1.0                0.0                  1.0              1.0   \n",
       "\n",
       "   tech_company_Yes  benefits_Don't know ...   coworkers_Yes  supervisor_No  \\\n",
       "0               1.0                  0.0 ...             0.0            0.0   \n",
       "1               1.0                  1.0 ...             0.0            1.0   \n",
       "2               1.0                  0.0 ...             1.0            0.0   \n",
       "\n",
       "   supervisor_Yes  mental_health_interview_No  mental_health_interview_Yes  \\\n",
       "0             1.0                         1.0                          0.0   \n",
       "1             0.0                         1.0                          0.0   \n",
       "2             1.0                         0.0                          1.0   \n",
       "\n",
       "   mental_vs_physical_Don't know  mental_vs_physical_No  \\\n",
       "0                            0.0                    0.0   \n",
       "1                            1.0                    0.0   \n",
       "2                            0.0                    1.0   \n",
       "\n",
       "   mental_vs_physical_Yes  obs_consequence_No  Age  \n",
       "0                     1.0                 1.0   21  \n",
       "1                     0.0                 1.0   21  \n",
       "2                     0.0                 1.0   21  \n",
       "\n",
       "[3 rows x 35 columns]"
      ],
      "text/html": "<div>\n<style scoped>\n    .dataframe tbody tr th:only-of-type {\n        vertical-align: middle;\n    }\n\n    .dataframe tbody tr th {\n        vertical-align: top;\n    }\n\n    .dataframe thead th {\n        text-align: right;\n    }\n</style>\n<table border=\"1\" class=\"dataframe\">\n  <thead>\n    <tr style=\"text-align: right;\">\n      <th></th>\n      <th>Gender_M</th>\n      <th>self_employed_No</th>\n      <th>self_employed_Yes</th>\n      <th>family_history_No</th>\n      <th>treatment_No</th>\n      <th>no_employees_1-25</th>\n      <th>no_employees_26-100</th>\n      <th>remote_work_Yes</th>\n      <th>tech_company_Yes</th>\n      <th>benefits_Don't know</th>\n      <th>...</th>\n      <th>coworkers_Yes</th>\n      <th>supervisor_No</th>\n      <th>supervisor_Yes</th>\n      <th>mental_health_interview_No</th>\n      <th>mental_health_interview_Yes</th>\n      <th>mental_vs_physical_Don't know</th>\n      <th>mental_vs_physical_No</th>\n      <th>mental_vs_physical_Yes</th>\n      <th>obs_consequence_No</th>\n      <th>Age</th>\n    </tr>\n  </thead>\n  <tbody>\n    <tr>\n      <th>0</th>\n      <td>1.0</td>\n      <td>1.0</td>\n      <td>0.0</td>\n      <td>1.0</td>\n      <td>1.0</td>\n      <td>1.0</td>\n      <td>0.0</td>\n      <td>1.0</td>\n      <td>1.0</td>\n      <td>0.0</td>\n      <td>...</td>\n      <td>0.0</td>\n      <td>0.0</td>\n      <td>1.0</td>\n      <td>1.0</td>\n      <td>0.0</td>\n      <td>0.0</td>\n      <td>0.0</td>\n      <td>1.0</td>\n      <td>1.0</td>\n      <td>21</td>\n    </tr>\n    <tr>\n      <th>1</th>\n      <td>1.0</td>\n      <td>0.0</td>\n      <td>1.0</td>\n      <td>1.0</td>\n      <td>1.0</td>\n      <td>1.0</td>\n      <td>0.0</td>\n      <td>1.0</td>\n      <td>1.0</td>\n      <td>1.0</td>\n      <td>...</td>\n      <td>0.0</td>\n      <td>1.0</td>\n      <td>0.0</td>\n      <td>1.0</td>\n      <td>0.0</td>\n      <td>1.0</td>\n      <td>0.0</td>\n      <td>0.0</td>\n      <td>1.0</td>\n      <td>21</td>\n    </tr>\n    <tr>\n      <th>2</th>\n      <td>1.0</td>\n      <td>1.0</td>\n      <td>0.0</td>\n      <td>1.0</td>\n      <td>1.0</td>\n      <td>0.0</td>\n      <td>1.0</td>\n      <td>1.0</td>\n      <td>1.0</td>\n      <td>0.0</td>\n      <td>...</td>\n      <td>1.0</td>\n      <td>0.0</td>\n      <td>1.0</td>\n      <td>0.0</td>\n      <td>1.0</td>\n      <td>0.0</td>\n      <td>1.0</td>\n      <td>0.0</td>\n      <td>1.0</td>\n      <td>21</td>\n    </tr>\n  </tbody>\n</table>\n<p>3 rows × 35 columns</p>\n</div>"
     },
     "metadata": {},
     "execution_count": 3
    }
   ],
   "source": [
    "encoded = encode(cleaned)\n",
    "encoded.head()"
   ]
  },
  {
   "cell_type": "code",
   "execution_count": 4,
   "metadata": {},
   "outputs": [
    {
     "output_type": "execute_result",
     "data": {
      "text/plain": [
       "Empty DataFrame\n",
       "Columns: [Gender_M, Gender_other, Gender_queer, Gender_trans, self_employed_Yes, family_history_Yes, treatment_Yes, no_employees_100-500, no_employees_26-100, no_employees_500-1000, no_employees_More than 1000, remote_work_Yes, tech_company_Yes, benefits_No, benefits_Yes, care_options_Not sure, care_options_Yes, wellness_program_No, wellness_program_Yes, seek_help_No, seek_help_Yes, anonymity_No, anonymity_Yes, leave_Somewhat difficult, leave_Somewhat easy, leave_Very difficult, leave_Very easy, mental_health_consequence_No, mental_health_consequence_Yes, coworkers_Some of them, coworkers_Yes, supervisor_Some of them, supervisor_Yes, mental_health_interview_No, mental_health_interview_Yes, mental_vs_physical_No, mental_vs_physical_Yes, obs_consequence_Yes, Age]\n",
       "Index: []\n",
       "\n",
       "[0 rows x 39 columns]"
      ],
      "text/html": "<div>\n<style scoped>\n    .dataframe tbody tr th:only-of-type {\n        vertical-align: middle;\n    }\n\n    .dataframe tbody tr th {\n        vertical-align: top;\n    }\n\n    .dataframe thead th {\n        text-align: right;\n    }\n</style>\n<table border=\"1\" class=\"dataframe\">\n  <thead>\n    <tr style=\"text-align: right;\">\n      <th></th>\n      <th>Gender_M</th>\n      <th>Gender_other</th>\n      <th>Gender_queer</th>\n      <th>Gender_trans</th>\n      <th>self_employed_Yes</th>\n      <th>family_history_Yes</th>\n      <th>treatment_Yes</th>\n      <th>no_employees_100-500</th>\n      <th>no_employees_26-100</th>\n      <th>no_employees_500-1000</th>\n      <th>...</th>\n      <th>coworkers_Some of them</th>\n      <th>coworkers_Yes</th>\n      <th>supervisor_Some of them</th>\n      <th>supervisor_Yes</th>\n      <th>mental_health_interview_No</th>\n      <th>mental_health_interview_Yes</th>\n      <th>mental_vs_physical_No</th>\n      <th>mental_vs_physical_Yes</th>\n      <th>obs_consequence_Yes</th>\n      <th>Age</th>\n    </tr>\n  </thead>\n  <tbody>\n  </tbody>\n</table>\n<p>0 rows × 39 columns</p>\n</div>"
     },
     "metadata": {},
     "execution_count": 4
    }
   ],
   "source": [
    "final_df = pd.DataFrame([], columns=COLUMNS)\n",
    "final_df.head()"
   ]
  },
  {
   "cell_type": "code",
   "execution_count": 7,
   "metadata": {},
   "outputs": [
    {
     "output_type": "execute_result",
     "data": {
      "text/plain": [
       "Empty DataFrame\n",
       "Columns: [Gender_M, Gender_other, Gender_queer, Gender_trans, self_employed_Yes, family_history_Yes, treatment_Yes, no_employees_100-500, no_employees_26-100, no_employees_500-1000, no_employees_More than 1000, remote_work_Yes, tech_company_Yes, benefits_No, benefits_Yes, care_options_Not sure, care_options_Yes, wellness_program_No, wellness_program_Yes, seek_help_No, seek_help_Yes, anonymity_No, anonymity_Yes, leave_Somewhat difficult, leave_Somewhat easy, leave_Very difficult, leave_Very easy, mental_health_consequence_No, mental_health_consequence_Yes, coworkers_Some of them, coworkers_Yes, supervisor_Some of them, supervisor_Yes, mental_health_interview_No, mental_health_interview_Yes, mental_vs_physical_No, mental_vs_physical_Yes, obs_consequence_Yes, Age, Gender_M, self_employed_No, self_employed_Yes, family_history_No, treatment_No, no_employees_1-25, no_employees_26-100, remote_work_Yes, tech_company_Yes, benefits_Don't know, benefits_No, care_options_No, wellness_program_Don't know, wellness_program_No, wellness_program_Yes, seek_help_Don't know, seek_help_No, anonymity_Don't know, leave_Don't know, leave_Somewhat easy, mental_health_consequence_Maybe, mental_health_consequence_No, mental_health_consequence_Yes, coworkers_No, coworkers_Some of them, coworkers_Yes, supervisor_No, supervisor_Yes, mental_health_interview_No, mental_health_interview_Yes, mental_vs_physical_Don't know, mental_vs_physical_No, mental_vs_physical_Yes, obs_consequence_No, Age]\n",
       "Index: []\n",
       "\n",
       "[0 rows x 74 columns]"
      ],
      "text/html": "<div>\n<style scoped>\n    .dataframe tbody tr th:only-of-type {\n        vertical-align: middle;\n    }\n\n    .dataframe tbody tr th {\n        vertical-align: top;\n    }\n\n    .dataframe thead th {\n        text-align: right;\n    }\n</style>\n<table border=\"1\" class=\"dataframe\">\n  <thead>\n    <tr style=\"text-align: right;\">\n      <th></th>\n      <th>Gender_M</th>\n      <th>Gender_other</th>\n      <th>Gender_queer</th>\n      <th>Gender_trans</th>\n      <th>self_employed_Yes</th>\n      <th>family_history_Yes</th>\n      <th>treatment_Yes</th>\n      <th>no_employees_100-500</th>\n      <th>no_employees_26-100</th>\n      <th>no_employees_500-1000</th>\n      <th>...</th>\n      <th>coworkers_Yes</th>\n      <th>supervisor_No</th>\n      <th>supervisor_Yes</th>\n      <th>mental_health_interview_No</th>\n      <th>mental_health_interview_Yes</th>\n      <th>mental_vs_physical_Don't know</th>\n      <th>mental_vs_physical_No</th>\n      <th>mental_vs_physical_Yes</th>\n      <th>obs_consequence_No</th>\n      <th>Age</th>\n    </tr>\n  </thead>\n  <tbody>\n  </tbody>\n</table>\n<p>0 rows × 74 columns</p>\n</div>"
     },
     "metadata": {},
     "execution_count": 7
    }
   ],
   "source": [
    "pd.concat([final_df, encoded], axis=1)"
   ]
  }
 ]
}